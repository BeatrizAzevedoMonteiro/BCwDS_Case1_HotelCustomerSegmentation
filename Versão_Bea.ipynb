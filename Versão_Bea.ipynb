{
 "cells": [
  {
   "cell_type": "markdown",
   "metadata": {},
   "source": [
    "<div class=\"alert alert-block alert-info\" style=\"background-color: #A0C020; color: white;\">\n",
    "<center> <h1> Business Case 1 - Hotel Customer Segmentation </h1> </center> <br>\n",
    "<center> <h2> Group P </h2> </center> <br>\n",
    "    <center> <h3> 2024/2025 </h3> </center>"
   ]
  },
  {
   "cell_type": "markdown",
   "metadata": {},
   "source": [
    "# BUSINESS CASE 1: HOTEL CUSTOMER SEGMENTATION\n",
    "\n",
    "### This notebook uses the *Case1_HotelCustomerSegmentation.csv* dataset"
   ]
  },
  {
   "cell_type": "markdown",
   "metadata": {},
   "source": [
    "<h3 style=\"text-align: center;\"><u></b>Group P</u></b></h3>\n",
    "\n",
    "|     Student Name     |     Student ID     | \n",
    "|         ---          |           ---          |\n",
    "|     Beatriz Monteiro|   20240591        | \n",
    "|     Catarina Nunes           |       20230083       |\n",
    "|     Margarida Raposo      |       20241020       |\n",
    "|     Teresa Menezes   |      20240333       |"
   ]
  },
  {
   "cell_type": "markdown",
   "metadata": {},
   "source": [
    "<div style=\"background-color: #A0C020; padding: 10px; border-radius: 8px; text-align: center; margin-top: 20px; margin-bottom: 20px;\">\n",
    "    <h2 style=\"color: white; margin: 0;\">Project Metadata</h2>\n",
    "</di>"
   ]
  },
  {
   "cell_type": "markdown",
   "metadata": {},
   "source": [
    "### Project Title\n",
    "**Hotel Customer Segmentation**\n",
    "\n",
    "### Project Description\n",
    "This case study focuses on customer segmentation for Hotel H, a member of an independent hotel chain located in Lisbon, Portugal. The hotel's current market segmentation strategy, based solely on the origin of customers, is deemed inadequate by the new marketing manager, A. The primary objective is to develop a more comprehensive segmentation approach that incorporates geographic, demographic, and behavioral characteristics to better understand and target different customer groups. The findings aim to inform strategic decisions on product offerings, pricing, and marketing efforts to enhance customer engagement and acquisition.\n",
    "\n",
    "### Features\n",
    "- **ID**: Customer ID\n",
    "- **Nationality**: Nationality of the customer in ISO 3166-1 (Alpha 3) format\n",
    "- **Age**: The age of the customer\n",
    "- **DaysSinceCreation**: Number of elapsed days since the customer was created\n",
    "- **NameHash**: Hash of the customer's name\n",
    "- **DocIDHash**: Hash of the customer’s personal document identification number (usually a passport or ID card)\n",
    "- **AverageLeadTime**: Average number of days before arrival date the customer makes bookings\n",
    "- **LodgingRevenue**: Total amount of lodging revenue paid by the customer so far\n",
    "- **OtherRevenue**: Total amount of other revenue (e.g., food & beverage, spa, etc.) paid by the customer so far\n",
    "- **BookingsCanceled**: Number of bookings the customer made but subsequently canceled\n",
    "- **BookingsNoShowed**: Number of bookings the customer made but subsequently made a \"no-show\"\n",
    "- **BookingsCheckedin**: Number of bookings the customer made, which actually ended up staying\n",
    "- **PersonNights**: Total person/nights the customer has stayed at the hotel so far. Persons/Nights are the sum of Adults and Children in \n",
    "each booking, multiplied by the number of Nights (Length-of-stay) of the booking\n",
    "- **RoomNights**: Total of room/nights the customer has stayed at the hotel so far. Room/Nights are the multiplication of the number of \n",
    "rooms of each booking by the the number of Nights (Length-ofstay) of the booking\n",
    "- **DistributionChannel**: Distribution channel normally used by the customer to make bookings at the hotel\n",
    "- **MarketSegment**: Current market segment of the customer\n",
    "- **SRHighFloor**: Indication if the customer usually asks for a room in a higher floor (0: No, 1: Yes)\n",
    "- **SRLowFloor**: Indication if the customer usually asks for a room in a lower floor (0: No, 1: Yes)\n",
    "- **SRAccessibleRoom**: Indication if the customer usually asks for an accessible room (0: No, 1: Yes)\n",
    "- **SRMediumFloor**: Indication if the customer usually asks for a room in a middle floor (0: No, 1: Yes)\n",
    "- **SRBathtub Indication**: if the customer usually asks for a room with a bathtub (0: No, 1: Yes)\n",
    "- **SRShower**: Indication if the customer usually asks for a room with a shower (0: No, 1: Yes)\n",
    "- **SRCrib**: Indication if the customer usually asks for a crib (0: No, 1: Yes)\n",
    "- **SRKingSizeBed**: Indication if the customer usually asks for a room with a king size bed (0: No, 1: Yes)\n",
    "- **SRTwinBed Indication**: if the customer usually asks for a room with a twin bed (0: No, 1: Yes)\n",
    "- **SRNearElevator**: Indication if the customer usually asks for a room near the elevator (0: No, 1: Yes)\n",
    "- **SRAwayFromElevator**: Indication if the customer usually asks for a room away from the elevator (0: No, 1: Yes)\n",
    "- **SRNoAlcoholInMiniBar**: Indication if the customer usually asks for a room with no alcohol in the mini bar (0: No, 1: Yes)\n",
    "- **SRQuietRoom**: Indication if the customer usually asks for a room away from the noise (0: No, 1: Yes)\n",
    "\n",
    "\n",
    "### CRISP-DM\n",
    "1. **Business Understanding**: Defining objectives, assessing resources, and project planning.\n",
    "2. **Data Understanding**: Collecting, exploring, and verifying data quality.\n",
    "2. **Data Preparation**: Selecting, cleaning, constructing, integrating, and formatting data to ensure it is ready for analysis.\n",
    "3. **Modeling**: \n",
    "4. **Evaluation**:\n",
    "5. **Deployment**:\n"
   ]
  },
  {
   "cell_type": "markdown",
   "metadata": {},
   "source": [
    "<div style=\"background-color: #A0C020; padding: 10px; border-radius: 8px; text-align: center; margin-top: 20px; margin-bottom: 20px;\">\n",
    "    <h2 style=\"color: white; margin: 0;\">Import Libraries</h2>\n",
    "</div>"
   ]
  },
  {
   "cell_type": "code",
   "execution_count": 62,
   "metadata": {},
   "outputs": [],
   "source": [
    "import pandas as pd\n",
    "import numpy as np\n",
    "import matplotlib.pyplot as plt\n",
    "import seaborn as sns\n",
    "import plotly.graph_objects as go"
   ]
  },
  {
   "cell_type": "code",
   "execution_count": 3,
   "metadata": {},
   "outputs": [],
   "source": [
    "pd.set_option('display.max_columns', None) # to display the max number of columns"
   ]
  },
  {
   "cell_type": "markdown",
   "metadata": {},
   "source": [
    "<a id = \"Index\"></a>\n",
    "\n",
    "<div style=\"background-color: #A0C020; padding: 10px; border-radius: 8px; text-align: center; margin-top: 20px; margin-bottom: 20px;\">\n",
    "    <h1 style=\"color: white; margin: 0;\">Index</h1>\n",
    "</div>\n",
    "\n",
    "1. [Data Understanding](#Data-Understanding)\n",
    "    * 1.1. [Data Loading and Description](#Data-Loading-and-Description)\n",
    "\n",
    "    * 1.2. [Exploratory Data Analysis](#EDA)\n",
    "\n",
    "        - [1.2.1. Data Types](#Data-Types)\n",
    "\n",
    "        - [1.2.2. Univariate EDA: Descriptive Summary](#Descriptive-Summary)\n",
    "            * Numeric Features\n",
    "            * Non Numeric Features \n",
    "\n",
    "        - [1.2.3. Missing Values](#missingvalues)\n",
    "\n",
    "        - [1.2.4. Univariate EDA: Data Visualization](#Univariate-Vizualization)\n",
    "            * Numeric variables: Histograms\n",
    "            * Numeric variables: Boxplots\n",
    "            * Categorical variables: BarPlots\n",
    "            * Categorical variables: Geographic Map\n",
    "            * Boolean variables: Barplots\n",
    " \n",
    "        - [1.2.5. Bivariate EDA: Data Visualization](#Bivariate-Vizualization) \n",
    "            * Numeric-Numeric: Correlations\n",
    "            * Numeric-Categorical: Correlations\n",
    "            * Categorical-Categorical: Cross-tabulations\n",
    " \n",
    "        - [1.2.6. Multivariate EDA: Duplicates](#Multivariate) \n",
    "\n",
    "2. [Data Preparation](#Data-Preparation)"
   ]
  },
  {
   "cell_type": "markdown",
   "metadata": {},
   "source": [
    "<div style=\"background-color: #A0C020; padding: 10px; border-radius: 8px; text-align: center; margin-top: 20px; margin-bottom: 20px;\">\n",
    "    <h1 style=\"color: white; margin: 0;\">1. Data Understanding</h1>\n",
    "</div>"
   ]
  },
  {
   "cell_type": "markdown",
   "metadata": {},
   "source": [
    "<div style=\"background-color: #A0C020; padding: 10px; border-radius: 8px; text-align: center; margin-top: 20px; margin-bottom: 20px;\">\n",
    "    <h2 style=\"color: white; margin: 0;\">1.1. Data Loading and Description</h2>\n",
    "</div>"
   ]
  },
  {
   "cell_type": "markdown",
   "metadata": {},
   "source": [
    "Let's start off by importing our dataset usind read_csv from pandas."
   ]
  },
  {
   "cell_type": "code",
   "execution_count": 6,
   "metadata": {},
   "outputs": [
    {
     "data": {
      "text/html": [
       "<div>\n",
       "<style scoped>\n",
       "    .dataframe tbody tr th:only-of-type {\n",
       "        vertical-align: middle;\n",
       "    }\n",
       "\n",
       "    .dataframe tbody tr th {\n",
       "        vertical-align: top;\n",
       "    }\n",
       "\n",
       "    .dataframe thead th {\n",
       "        text-align: right;\n",
       "    }\n",
       "</style>\n",
       "<table border=\"1\" class=\"dataframe\">\n",
       "  <thead>\n",
       "    <tr style=\"text-align: right;\">\n",
       "      <th></th>\n",
       "      <th>ID</th>\n",
       "      <th>Nationality</th>\n",
       "      <th>Age</th>\n",
       "      <th>DaysSinceCreation</th>\n",
       "      <th>NameHash</th>\n",
       "      <th>DocIDHash</th>\n",
       "      <th>AverageLeadTime</th>\n",
       "      <th>LodgingRevenue</th>\n",
       "      <th>OtherRevenue</th>\n",
       "      <th>BookingsCanceled</th>\n",
       "      <th>BookingsNoShowed</th>\n",
       "      <th>BookingsCheckedIn</th>\n",
       "      <th>PersonsNights</th>\n",
       "      <th>RoomNights</th>\n",
       "      <th>DistributionChannel</th>\n",
       "      <th>MarketSegment</th>\n",
       "      <th>SRHighFloor</th>\n",
       "      <th>SRLowFloor</th>\n",
       "      <th>SRAccessibleRoom</th>\n",
       "      <th>SRMediumFloor</th>\n",
       "      <th>SRBathtub</th>\n",
       "      <th>SRShower</th>\n",
       "      <th>SRCrib</th>\n",
       "      <th>SRKingSizeBed</th>\n",
       "      <th>SRTwinBed</th>\n",
       "      <th>SRNearElevator</th>\n",
       "      <th>SRAwayFromElevator</th>\n",
       "      <th>SRNoAlcoholInMiniBar</th>\n",
       "      <th>SRQuietRoom</th>\n",
       "    </tr>\n",
       "  </thead>\n",
       "  <tbody>\n",
       "    <tr>\n",
       "      <th>0</th>\n",
       "      <td>1</td>\n",
       "      <td>PRT</td>\n",
       "      <td>52.0</td>\n",
       "      <td>440</td>\n",
       "      <td>0x2C371FD6CE12936774A139FD7430C624F1C4D5109CE6...</td>\n",
       "      <td>0x434FD3D59469C73AFEA087017FAF8CA2296493AEABDE...</td>\n",
       "      <td>59</td>\n",
       "      <td>292.00</td>\n",
       "      <td>82.3</td>\n",
       "      <td>1</td>\n",
       "      <td>0</td>\n",
       "      <td>2</td>\n",
       "      <td>6</td>\n",
       "      <td>4</td>\n",
       "      <td>Corporate</td>\n",
       "      <td>Corporate</td>\n",
       "      <td>0</td>\n",
       "      <td>0</td>\n",
       "      <td>0</td>\n",
       "      <td>0</td>\n",
       "      <td>0</td>\n",
       "      <td>0</td>\n",
       "      <td>0</td>\n",
       "      <td>0</td>\n",
       "      <td>0</td>\n",
       "      <td>0</td>\n",
       "      <td>0</td>\n",
       "      <td>0</td>\n",
       "      <td>0</td>\n",
       "    </tr>\n",
       "    <tr>\n",
       "      <th>1</th>\n",
       "      <td>2</td>\n",
       "      <td>PRT</td>\n",
       "      <td>NaN</td>\n",
       "      <td>1385</td>\n",
       "      <td>0x198CDB98BF37B6E23F9548C56A88B00912D65A9AA0D6...</td>\n",
       "      <td>0xE3B0C44298FC1C149AFBF4C8996FB92427AE41E4649B...</td>\n",
       "      <td>61</td>\n",
       "      <td>280.00</td>\n",
       "      <td>53.0</td>\n",
       "      <td>0</td>\n",
       "      <td>0</td>\n",
       "      <td>1</td>\n",
       "      <td>10</td>\n",
       "      <td>5</td>\n",
       "      <td>Travel Agent/Operator</td>\n",
       "      <td>Travel Agent/Operator</td>\n",
       "      <td>0</td>\n",
       "      <td>0</td>\n",
       "      <td>0</td>\n",
       "      <td>0</td>\n",
       "      <td>0</td>\n",
       "      <td>0</td>\n",
       "      <td>0</td>\n",
       "      <td>0</td>\n",
       "      <td>0</td>\n",
       "      <td>0</td>\n",
       "      <td>0</td>\n",
       "      <td>0</td>\n",
       "      <td>0</td>\n",
       "    </tr>\n",
       "    <tr>\n",
       "      <th>2</th>\n",
       "      <td>3</td>\n",
       "      <td>DEU</td>\n",
       "      <td>32.0</td>\n",
       "      <td>1385</td>\n",
       "      <td>0xDA46E62F66936284DF2844EC4FC542D0DAD780C0EE0C...</td>\n",
       "      <td>0x27F5DF762CCDA622C752CCDA45794923BED9F1B66300...</td>\n",
       "      <td>0</td>\n",
       "      <td>0.00</td>\n",
       "      <td>0.0</td>\n",
       "      <td>0</td>\n",
       "      <td>0</td>\n",
       "      <td>0</td>\n",
       "      <td>0</td>\n",
       "      <td>0</td>\n",
       "      <td>Travel Agent/Operator</td>\n",
       "      <td>Travel Agent/Operator</td>\n",
       "      <td>0</td>\n",
       "      <td>0</td>\n",
       "      <td>0</td>\n",
       "      <td>0</td>\n",
       "      <td>0</td>\n",
       "      <td>0</td>\n",
       "      <td>0</td>\n",
       "      <td>0</td>\n",
       "      <td>0</td>\n",
       "      <td>0</td>\n",
       "      <td>0</td>\n",
       "      <td>0</td>\n",
       "      <td>0</td>\n",
       "    </tr>\n",
       "    <tr>\n",
       "      <th>3</th>\n",
       "      <td>4</td>\n",
       "      <td>FRA</td>\n",
       "      <td>61.0</td>\n",
       "      <td>1385</td>\n",
       "      <td>0xC45D4CD22C58FDC5FD0F95315F6EFA5A6E7149187D49...</td>\n",
       "      <td>0x8E59572913BB9B1E6CAA12FA2C8B7BF387B1D1F3432E...</td>\n",
       "      <td>93</td>\n",
       "      <td>240.00</td>\n",
       "      <td>60.0</td>\n",
       "      <td>0</td>\n",
       "      <td>0</td>\n",
       "      <td>1</td>\n",
       "      <td>10</td>\n",
       "      <td>5</td>\n",
       "      <td>Travel Agent/Operator</td>\n",
       "      <td>Travel Agent/Operator</td>\n",
       "      <td>0</td>\n",
       "      <td>0</td>\n",
       "      <td>0</td>\n",
       "      <td>0</td>\n",
       "      <td>0</td>\n",
       "      <td>0</td>\n",
       "      <td>0</td>\n",
       "      <td>0</td>\n",
       "      <td>0</td>\n",
       "      <td>0</td>\n",
       "      <td>0</td>\n",
       "      <td>0</td>\n",
       "      <td>0</td>\n",
       "    </tr>\n",
       "    <tr>\n",
       "      <th>4</th>\n",
       "      <td>5</td>\n",
       "      <td>FRA</td>\n",
       "      <td>52.0</td>\n",
       "      <td>1385</td>\n",
       "      <td>0xD2E3D5BFCA141865669F98D64CDA85AD04DEFF47F8A0...</td>\n",
       "      <td>0x42BDEE0E05A9441C94147076EDDCC47E604DA5447DD4...</td>\n",
       "      <td>0</td>\n",
       "      <td>0.00</td>\n",
       "      <td>0.0</td>\n",
       "      <td>0</td>\n",
       "      <td>0</td>\n",
       "      <td>0</td>\n",
       "      <td>0</td>\n",
       "      <td>0</td>\n",
       "      <td>Travel Agent/Operator</td>\n",
       "      <td>Travel Agent/Operator</td>\n",
       "      <td>0</td>\n",
       "      <td>0</td>\n",
       "      <td>0</td>\n",
       "      <td>0</td>\n",
       "      <td>0</td>\n",
       "      <td>0</td>\n",
       "      <td>0</td>\n",
       "      <td>0</td>\n",
       "      <td>0</td>\n",
       "      <td>0</td>\n",
       "      <td>0</td>\n",
       "      <td>0</td>\n",
       "      <td>0</td>\n",
       "    </tr>\n",
       "    <tr>\n",
       "      <th>...</th>\n",
       "      <td>...</td>\n",
       "      <td>...</td>\n",
       "      <td>...</td>\n",
       "      <td>...</td>\n",
       "      <td>...</td>\n",
       "      <td>...</td>\n",
       "      <td>...</td>\n",
       "      <td>...</td>\n",
       "      <td>...</td>\n",
       "      <td>...</td>\n",
       "      <td>...</td>\n",
       "      <td>...</td>\n",
       "      <td>...</td>\n",
       "      <td>...</td>\n",
       "      <td>...</td>\n",
       "      <td>...</td>\n",
       "      <td>...</td>\n",
       "      <td>...</td>\n",
       "      <td>...</td>\n",
       "      <td>...</td>\n",
       "      <td>...</td>\n",
       "      <td>...</td>\n",
       "      <td>...</td>\n",
       "      <td>...</td>\n",
       "      <td>...</td>\n",
       "      <td>...</td>\n",
       "      <td>...</td>\n",
       "      <td>...</td>\n",
       "      <td>...</td>\n",
       "    </tr>\n",
       "    <tr>\n",
       "      <th>111728</th>\n",
       "      <td>111729</td>\n",
       "      <td>DEU</td>\n",
       "      <td>31.0</td>\n",
       "      <td>36</td>\n",
       "      <td>0x2F59F0E86596B861C3303585FDB7F090B1B2D70442C5...</td>\n",
       "      <td>0x86AC02B9393E7F58354BA4193D792C07DB91D4BE27C7...</td>\n",
       "      <td>0</td>\n",
       "      <td>0.00</td>\n",
       "      <td>0.0</td>\n",
       "      <td>0</td>\n",
       "      <td>0</td>\n",
       "      <td>0</td>\n",
       "      <td>0</td>\n",
       "      <td>0</td>\n",
       "      <td>Travel Agent/Operator</td>\n",
       "      <td>Travel Agent/Operator</td>\n",
       "      <td>0</td>\n",
       "      <td>0</td>\n",
       "      <td>0</td>\n",
       "      <td>0</td>\n",
       "      <td>0</td>\n",
       "      <td>0</td>\n",
       "      <td>0</td>\n",
       "      <td>1</td>\n",
       "      <td>0</td>\n",
       "      <td>0</td>\n",
       "      <td>0</td>\n",
       "      <td>0</td>\n",
       "      <td>0</td>\n",
       "    </tr>\n",
       "    <tr>\n",
       "      <th>111729</th>\n",
       "      <td>111730</td>\n",
       "      <td>BRA</td>\n",
       "      <td>43.0</td>\n",
       "      <td>36</td>\n",
       "      <td>0x2708B9F11C95F384129152CDF0830B566F02D42B87AC...</td>\n",
       "      <td>0xE87DEB08B0D7D0BDC590949FF04AAA893018BD8EB714...</td>\n",
       "      <td>170</td>\n",
       "      <td>755.25</td>\n",
       "      <td>20.0</td>\n",
       "      <td>0</td>\n",
       "      <td>0</td>\n",
       "      <td>1</td>\n",
       "      <td>10</td>\n",
       "      <td>5</td>\n",
       "      <td>Travel Agent/Operator</td>\n",
       "      <td>Other</td>\n",
       "      <td>0</td>\n",
       "      <td>0</td>\n",
       "      <td>0</td>\n",
       "      <td>0</td>\n",
       "      <td>0</td>\n",
       "      <td>0</td>\n",
       "      <td>0</td>\n",
       "      <td>1</td>\n",
       "      <td>0</td>\n",
       "      <td>0</td>\n",
       "      <td>0</td>\n",
       "      <td>0</td>\n",
       "      <td>0</td>\n",
       "    </tr>\n",
       "    <tr>\n",
       "      <th>111730</th>\n",
       "      <td>111731</td>\n",
       "      <td>BRA</td>\n",
       "      <td>37.0</td>\n",
       "      <td>36</td>\n",
       "      <td>0xEF5F6AAA6120F2AC49179E16FD12477C243A8F4FC504...</td>\n",
       "      <td>0x74B9B5A554F5F660371E56D4CE4C1D4C3DC80AE71D68...</td>\n",
       "      <td>0</td>\n",
       "      <td>0.00</td>\n",
       "      <td>0.0</td>\n",
       "      <td>0</td>\n",
       "      <td>0</td>\n",
       "      <td>0</td>\n",
       "      <td>0</td>\n",
       "      <td>0</td>\n",
       "      <td>Travel Agent/Operator</td>\n",
       "      <td>Other</td>\n",
       "      <td>0</td>\n",
       "      <td>0</td>\n",
       "      <td>0</td>\n",
       "      <td>0</td>\n",
       "      <td>0</td>\n",
       "      <td>0</td>\n",
       "      <td>0</td>\n",
       "      <td>1</td>\n",
       "      <td>0</td>\n",
       "      <td>0</td>\n",
       "      <td>0</td>\n",
       "      <td>0</td>\n",
       "      <td>0</td>\n",
       "    </tr>\n",
       "    <tr>\n",
       "      <th>111731</th>\n",
       "      <td>111732</td>\n",
       "      <td>DEU</td>\n",
       "      <td>48.0</td>\n",
       "      <td>36</td>\n",
       "      <td>0xC70AE03F615CB96B0C84CF29419C2DDFE8EC64B77104...</td>\n",
       "      <td>0xF589C016E6988AECD3E3BE793E7D606BBDB6B6D4795C...</td>\n",
       "      <td>66</td>\n",
       "      <td>708.00</td>\n",
       "      <td>185.0</td>\n",
       "      <td>0</td>\n",
       "      <td>0</td>\n",
       "      <td>1</td>\n",
       "      <td>8</td>\n",
       "      <td>4</td>\n",
       "      <td>Travel Agent/Operator</td>\n",
       "      <td>Other</td>\n",
       "      <td>0</td>\n",
       "      <td>0</td>\n",
       "      <td>0</td>\n",
       "      <td>0</td>\n",
       "      <td>0</td>\n",
       "      <td>0</td>\n",
       "      <td>0</td>\n",
       "      <td>0</td>\n",
       "      <td>0</td>\n",
       "      <td>0</td>\n",
       "      <td>0</td>\n",
       "      <td>0</td>\n",
       "      <td>0</td>\n",
       "    </tr>\n",
       "    <tr>\n",
       "      <th>111732</th>\n",
       "      <td>111733</td>\n",
       "      <td>DEU</td>\n",
       "      <td>48.0</td>\n",
       "      <td>36</td>\n",
       "      <td>0xE52EE501843E3108F20BB8F2EC180D8654DF1424EFA2...</td>\n",
       "      <td>0xD539E89183AB389864B7A24B3C1FBC1FE20A40ED02E7...</td>\n",
       "      <td>0</td>\n",
       "      <td>0.00</td>\n",
       "      <td>0.0</td>\n",
       "      <td>0</td>\n",
       "      <td>0</td>\n",
       "      <td>0</td>\n",
       "      <td>0</td>\n",
       "      <td>0</td>\n",
       "      <td>Travel Agent/Operator</td>\n",
       "      <td>Other</td>\n",
       "      <td>0</td>\n",
       "      <td>0</td>\n",
       "      <td>0</td>\n",
       "      <td>0</td>\n",
       "      <td>0</td>\n",
       "      <td>0</td>\n",
       "      <td>0</td>\n",
       "      <td>0</td>\n",
       "      <td>0</td>\n",
       "      <td>0</td>\n",
       "      <td>0</td>\n",
       "      <td>0</td>\n",
       "      <td>0</td>\n",
       "    </tr>\n",
       "  </tbody>\n",
       "</table>\n",
       "<p>111733 rows × 29 columns</p>\n",
       "</div>"
      ],
      "text/plain": [
       "            ID Nationality   Age  DaysSinceCreation  \\\n",
       "0            1         PRT  52.0                440   \n",
       "1            2         PRT   NaN               1385   \n",
       "2            3         DEU  32.0               1385   \n",
       "3            4         FRA  61.0               1385   \n",
       "4            5         FRA  52.0               1385   \n",
       "...        ...         ...   ...                ...   \n",
       "111728  111729         DEU  31.0                 36   \n",
       "111729  111730         BRA  43.0                 36   \n",
       "111730  111731         BRA  37.0                 36   \n",
       "111731  111732         DEU  48.0                 36   \n",
       "111732  111733         DEU  48.0                 36   \n",
       "\n",
       "                                                 NameHash  \\\n",
       "0       0x2C371FD6CE12936774A139FD7430C624F1C4D5109CE6...   \n",
       "1       0x198CDB98BF37B6E23F9548C56A88B00912D65A9AA0D6...   \n",
       "2       0xDA46E62F66936284DF2844EC4FC542D0DAD780C0EE0C...   \n",
       "3       0xC45D4CD22C58FDC5FD0F95315F6EFA5A6E7149187D49...   \n",
       "4       0xD2E3D5BFCA141865669F98D64CDA85AD04DEFF47F8A0...   \n",
       "...                                                   ...   \n",
       "111728  0x2F59F0E86596B861C3303585FDB7F090B1B2D70442C5...   \n",
       "111729  0x2708B9F11C95F384129152CDF0830B566F02D42B87AC...   \n",
       "111730  0xEF5F6AAA6120F2AC49179E16FD12477C243A8F4FC504...   \n",
       "111731  0xC70AE03F615CB96B0C84CF29419C2DDFE8EC64B77104...   \n",
       "111732  0xE52EE501843E3108F20BB8F2EC180D8654DF1424EFA2...   \n",
       "\n",
       "                                                DocIDHash  AverageLeadTime  \\\n",
       "0       0x434FD3D59469C73AFEA087017FAF8CA2296493AEABDE...               59   \n",
       "1       0xE3B0C44298FC1C149AFBF4C8996FB92427AE41E4649B...               61   \n",
       "2       0x27F5DF762CCDA622C752CCDA45794923BED9F1B66300...                0   \n",
       "3       0x8E59572913BB9B1E6CAA12FA2C8B7BF387B1D1F3432E...               93   \n",
       "4       0x42BDEE0E05A9441C94147076EDDCC47E604DA5447DD4...                0   \n",
       "...                                                   ...              ...   \n",
       "111728  0x86AC02B9393E7F58354BA4193D792C07DB91D4BE27C7...                0   \n",
       "111729  0xE87DEB08B0D7D0BDC590949FF04AAA893018BD8EB714...              170   \n",
       "111730  0x74B9B5A554F5F660371E56D4CE4C1D4C3DC80AE71D68...                0   \n",
       "111731  0xF589C016E6988AECD3E3BE793E7D606BBDB6B6D4795C...               66   \n",
       "111732  0xD539E89183AB389864B7A24B3C1FBC1FE20A40ED02E7...                0   \n",
       "\n",
       "        LodgingRevenue  OtherRevenue  BookingsCanceled  BookingsNoShowed  \\\n",
       "0               292.00          82.3                 1                 0   \n",
       "1               280.00          53.0                 0                 0   \n",
       "2                 0.00           0.0                 0                 0   \n",
       "3               240.00          60.0                 0                 0   \n",
       "4                 0.00           0.0                 0                 0   \n",
       "...                ...           ...               ...               ...   \n",
       "111728            0.00           0.0                 0                 0   \n",
       "111729          755.25          20.0                 0                 0   \n",
       "111730            0.00           0.0                 0                 0   \n",
       "111731          708.00         185.0                 0                 0   \n",
       "111732            0.00           0.0                 0                 0   \n",
       "\n",
       "        BookingsCheckedIn  PersonsNights  RoomNights    DistributionChannel  \\\n",
       "0                       2              6           4              Corporate   \n",
       "1                       1             10           5  Travel Agent/Operator   \n",
       "2                       0              0           0  Travel Agent/Operator   \n",
       "3                       1             10           5  Travel Agent/Operator   \n",
       "4                       0              0           0  Travel Agent/Operator   \n",
       "...                   ...            ...         ...                    ...   \n",
       "111728                  0              0           0  Travel Agent/Operator   \n",
       "111729                  1             10           5  Travel Agent/Operator   \n",
       "111730                  0              0           0  Travel Agent/Operator   \n",
       "111731                  1              8           4  Travel Agent/Operator   \n",
       "111732                  0              0           0  Travel Agent/Operator   \n",
       "\n",
       "                MarketSegment  SRHighFloor  SRLowFloor  SRAccessibleRoom  \\\n",
       "0                   Corporate            0           0                 0   \n",
       "1       Travel Agent/Operator            0           0                 0   \n",
       "2       Travel Agent/Operator            0           0                 0   \n",
       "3       Travel Agent/Operator            0           0                 0   \n",
       "4       Travel Agent/Operator            0           0                 0   \n",
       "...                       ...          ...         ...               ...   \n",
       "111728  Travel Agent/Operator            0           0                 0   \n",
       "111729                  Other            0           0                 0   \n",
       "111730                  Other            0           0                 0   \n",
       "111731                  Other            0           0                 0   \n",
       "111732                  Other            0           0                 0   \n",
       "\n",
       "        SRMediumFloor  SRBathtub  SRShower  SRCrib  SRKingSizeBed  SRTwinBed  \\\n",
       "0                   0          0         0       0              0          0   \n",
       "1                   0          0         0       0              0          0   \n",
       "2                   0          0         0       0              0          0   \n",
       "3                   0          0         0       0              0          0   \n",
       "4                   0          0         0       0              0          0   \n",
       "...               ...        ...       ...     ...            ...        ...   \n",
       "111728              0          0         0       0              1          0   \n",
       "111729              0          0         0       0              1          0   \n",
       "111730              0          0         0       0              1          0   \n",
       "111731              0          0         0       0              0          0   \n",
       "111732              0          0         0       0              0          0   \n",
       "\n",
       "        SRNearElevator  SRAwayFromElevator  SRNoAlcoholInMiniBar  SRQuietRoom  \n",
       "0                    0                   0                     0            0  \n",
       "1                    0                   0                     0            0  \n",
       "2                    0                   0                     0            0  \n",
       "3                    0                   0                     0            0  \n",
       "4                    0                   0                     0            0  \n",
       "...                ...                 ...                   ...          ...  \n",
       "111728               0                   0                     0            0  \n",
       "111729               0                   0                     0            0  \n",
       "111730               0                   0                     0            0  \n",
       "111731               0                   0                     0            0  \n",
       "111732               0                   0                     0            0  \n",
       "\n",
       "[111733 rows x 29 columns]"
      ]
     },
     "execution_count": 6,
     "metadata": {},
     "output_type": "execute_result"
    }
   ],
   "source": [
    "# Opening our dataset\n",
    "df = pd.read_csv('Case1_HotelCustomerSegmentation.csv', sep=';')\n",
    "df"
   ]
  },
  {
   "cell_type": "markdown",
   "metadata": {},
   "source": [
    "Now, we want to set the column `ID` as the index in the dataframe, as this column is supposed to identify an individual reservation. However, first, to ensure we don't lose any important rows due to identifier mistakes, we will check if this column only contains unique values:"
   ]
  },
  {
   "cell_type": "code",
   "execution_count": 7,
   "metadata": {},
   "outputs": [
    {
     "name": "stdout",
     "output_type": "stream",
     "text": [
      "The ID column has 111733 unique values,\n",
      "and the dataframe df has 111733 rows.\n",
      "All ID values are unique.\n"
     ]
    }
   ],
   "source": [
    "unique_reservations = df['ID'].nunique()\n",
    "total_rows = len(df)\n",
    "\n",
    "print(f\"The ID column has {unique_reservations}\"\n",
    "      f\" unique values,\\nand the dataframe df has {total_rows} rows.\")\n",
    "if unique_reservations == total_rows:\n",
    "    print(\"All ID values are unique.\")\n",
    "else:\n",
    "    print(\"There are duplicate ID values.\")"
   ]
  },
  {
   "cell_type": "code",
   "execution_count": 8,
   "metadata": {},
   "outputs": [],
   "source": [
    "# Set ID as the index\n",
    "df.set_index('ID', inplace=True)"
   ]
  },
  {
   "cell_type": "code",
   "execution_count": 9,
   "metadata": {},
   "outputs": [
    {
     "data": {
      "text/html": [
       "<div>\n",
       "<style scoped>\n",
       "    .dataframe tbody tr th:only-of-type {\n",
       "        vertical-align: middle;\n",
       "    }\n",
       "\n",
       "    .dataframe tbody tr th {\n",
       "        vertical-align: top;\n",
       "    }\n",
       "\n",
       "    .dataframe thead th {\n",
       "        text-align: right;\n",
       "    }\n",
       "</style>\n",
       "<table border=\"1\" class=\"dataframe\">\n",
       "  <thead>\n",
       "    <tr style=\"text-align: right;\">\n",
       "      <th></th>\n",
       "      <th>Nationality</th>\n",
       "      <th>Age</th>\n",
       "      <th>DaysSinceCreation</th>\n",
       "      <th>NameHash</th>\n",
       "      <th>DocIDHash</th>\n",
       "      <th>AverageLeadTime</th>\n",
       "      <th>LodgingRevenue</th>\n",
       "      <th>OtherRevenue</th>\n",
       "      <th>BookingsCanceled</th>\n",
       "      <th>BookingsNoShowed</th>\n",
       "      <th>BookingsCheckedIn</th>\n",
       "      <th>PersonsNights</th>\n",
       "      <th>RoomNights</th>\n",
       "      <th>DistributionChannel</th>\n",
       "      <th>MarketSegment</th>\n",
       "      <th>SRHighFloor</th>\n",
       "      <th>SRLowFloor</th>\n",
       "      <th>SRAccessibleRoom</th>\n",
       "      <th>SRMediumFloor</th>\n",
       "      <th>SRBathtub</th>\n",
       "      <th>SRShower</th>\n",
       "      <th>SRCrib</th>\n",
       "      <th>SRKingSizeBed</th>\n",
       "      <th>SRTwinBed</th>\n",
       "      <th>SRNearElevator</th>\n",
       "      <th>SRAwayFromElevator</th>\n",
       "      <th>SRNoAlcoholInMiniBar</th>\n",
       "      <th>SRQuietRoom</th>\n",
       "    </tr>\n",
       "    <tr>\n",
       "      <th>ID</th>\n",
       "      <th></th>\n",
       "      <th></th>\n",
       "      <th></th>\n",
       "      <th></th>\n",
       "      <th></th>\n",
       "      <th></th>\n",
       "      <th></th>\n",
       "      <th></th>\n",
       "      <th></th>\n",
       "      <th></th>\n",
       "      <th></th>\n",
       "      <th></th>\n",
       "      <th></th>\n",
       "      <th></th>\n",
       "      <th></th>\n",
       "      <th></th>\n",
       "      <th></th>\n",
       "      <th></th>\n",
       "      <th></th>\n",
       "      <th></th>\n",
       "      <th></th>\n",
       "      <th></th>\n",
       "      <th></th>\n",
       "      <th></th>\n",
       "      <th></th>\n",
       "      <th></th>\n",
       "      <th></th>\n",
       "      <th></th>\n",
       "    </tr>\n",
       "  </thead>\n",
       "  <tbody>\n",
       "    <tr>\n",
       "      <th>1</th>\n",
       "      <td>PRT</td>\n",
       "      <td>52.0</td>\n",
       "      <td>440</td>\n",
       "      <td>0x2C371FD6CE12936774A139FD7430C624F1C4D5109CE6...</td>\n",
       "      <td>0x434FD3D59469C73AFEA087017FAF8CA2296493AEABDE...</td>\n",
       "      <td>59</td>\n",
       "      <td>292.0</td>\n",
       "      <td>82.3</td>\n",
       "      <td>1</td>\n",
       "      <td>0</td>\n",
       "      <td>2</td>\n",
       "      <td>6</td>\n",
       "      <td>4</td>\n",
       "      <td>Corporate</td>\n",
       "      <td>Corporate</td>\n",
       "      <td>0</td>\n",
       "      <td>0</td>\n",
       "      <td>0</td>\n",
       "      <td>0</td>\n",
       "      <td>0</td>\n",
       "      <td>0</td>\n",
       "      <td>0</td>\n",
       "      <td>0</td>\n",
       "      <td>0</td>\n",
       "      <td>0</td>\n",
       "      <td>0</td>\n",
       "      <td>0</td>\n",
       "      <td>0</td>\n",
       "    </tr>\n",
       "    <tr>\n",
       "      <th>2</th>\n",
       "      <td>PRT</td>\n",
       "      <td>NaN</td>\n",
       "      <td>1385</td>\n",
       "      <td>0x198CDB98BF37B6E23F9548C56A88B00912D65A9AA0D6...</td>\n",
       "      <td>0xE3B0C44298FC1C149AFBF4C8996FB92427AE41E4649B...</td>\n",
       "      <td>61</td>\n",
       "      <td>280.0</td>\n",
       "      <td>53.0</td>\n",
       "      <td>0</td>\n",
       "      <td>0</td>\n",
       "      <td>1</td>\n",
       "      <td>10</td>\n",
       "      <td>5</td>\n",
       "      <td>Travel Agent/Operator</td>\n",
       "      <td>Travel Agent/Operator</td>\n",
       "      <td>0</td>\n",
       "      <td>0</td>\n",
       "      <td>0</td>\n",
       "      <td>0</td>\n",
       "      <td>0</td>\n",
       "      <td>0</td>\n",
       "      <td>0</td>\n",
       "      <td>0</td>\n",
       "      <td>0</td>\n",
       "      <td>0</td>\n",
       "      <td>0</td>\n",
       "      <td>0</td>\n",
       "      <td>0</td>\n",
       "    </tr>\n",
       "    <tr>\n",
       "      <th>3</th>\n",
       "      <td>DEU</td>\n",
       "      <td>32.0</td>\n",
       "      <td>1385</td>\n",
       "      <td>0xDA46E62F66936284DF2844EC4FC542D0DAD780C0EE0C...</td>\n",
       "      <td>0x27F5DF762CCDA622C752CCDA45794923BED9F1B66300...</td>\n",
       "      <td>0</td>\n",
       "      <td>0.0</td>\n",
       "      <td>0.0</td>\n",
       "      <td>0</td>\n",
       "      <td>0</td>\n",
       "      <td>0</td>\n",
       "      <td>0</td>\n",
       "      <td>0</td>\n",
       "      <td>Travel Agent/Operator</td>\n",
       "      <td>Travel Agent/Operator</td>\n",
       "      <td>0</td>\n",
       "      <td>0</td>\n",
       "      <td>0</td>\n",
       "      <td>0</td>\n",
       "      <td>0</td>\n",
       "      <td>0</td>\n",
       "      <td>0</td>\n",
       "      <td>0</td>\n",
       "      <td>0</td>\n",
       "      <td>0</td>\n",
       "      <td>0</td>\n",
       "      <td>0</td>\n",
       "      <td>0</td>\n",
       "    </tr>\n",
       "    <tr>\n",
       "      <th>4</th>\n",
       "      <td>FRA</td>\n",
       "      <td>61.0</td>\n",
       "      <td>1385</td>\n",
       "      <td>0xC45D4CD22C58FDC5FD0F95315F6EFA5A6E7149187D49...</td>\n",
       "      <td>0x8E59572913BB9B1E6CAA12FA2C8B7BF387B1D1F3432E...</td>\n",
       "      <td>93</td>\n",
       "      <td>240.0</td>\n",
       "      <td>60.0</td>\n",
       "      <td>0</td>\n",
       "      <td>0</td>\n",
       "      <td>1</td>\n",
       "      <td>10</td>\n",
       "      <td>5</td>\n",
       "      <td>Travel Agent/Operator</td>\n",
       "      <td>Travel Agent/Operator</td>\n",
       "      <td>0</td>\n",
       "      <td>0</td>\n",
       "      <td>0</td>\n",
       "      <td>0</td>\n",
       "      <td>0</td>\n",
       "      <td>0</td>\n",
       "      <td>0</td>\n",
       "      <td>0</td>\n",
       "      <td>0</td>\n",
       "      <td>0</td>\n",
       "      <td>0</td>\n",
       "      <td>0</td>\n",
       "      <td>0</td>\n",
       "    </tr>\n",
       "    <tr>\n",
       "      <th>5</th>\n",
       "      <td>FRA</td>\n",
       "      <td>52.0</td>\n",
       "      <td>1385</td>\n",
       "      <td>0xD2E3D5BFCA141865669F98D64CDA85AD04DEFF47F8A0...</td>\n",
       "      <td>0x42BDEE0E05A9441C94147076EDDCC47E604DA5447DD4...</td>\n",
       "      <td>0</td>\n",
       "      <td>0.0</td>\n",
       "      <td>0.0</td>\n",
       "      <td>0</td>\n",
       "      <td>0</td>\n",
       "      <td>0</td>\n",
       "      <td>0</td>\n",
       "      <td>0</td>\n",
       "      <td>Travel Agent/Operator</td>\n",
       "      <td>Travel Agent/Operator</td>\n",
       "      <td>0</td>\n",
       "      <td>0</td>\n",
       "      <td>0</td>\n",
       "      <td>0</td>\n",
       "      <td>0</td>\n",
       "      <td>0</td>\n",
       "      <td>0</td>\n",
       "      <td>0</td>\n",
       "      <td>0</td>\n",
       "      <td>0</td>\n",
       "      <td>0</td>\n",
       "      <td>0</td>\n",
       "      <td>0</td>\n",
       "    </tr>\n",
       "  </tbody>\n",
       "</table>\n",
       "</div>"
      ],
      "text/plain": [
       "   Nationality   Age  DaysSinceCreation  \\\n",
       "ID                                        \n",
       "1          PRT  52.0                440   \n",
       "2          PRT   NaN               1385   \n",
       "3          DEU  32.0               1385   \n",
       "4          FRA  61.0               1385   \n",
       "5          FRA  52.0               1385   \n",
       "\n",
       "                                             NameHash  \\\n",
       "ID                                                      \n",
       "1   0x2C371FD6CE12936774A139FD7430C624F1C4D5109CE6...   \n",
       "2   0x198CDB98BF37B6E23F9548C56A88B00912D65A9AA0D6...   \n",
       "3   0xDA46E62F66936284DF2844EC4FC542D0DAD780C0EE0C...   \n",
       "4   0xC45D4CD22C58FDC5FD0F95315F6EFA5A6E7149187D49...   \n",
       "5   0xD2E3D5BFCA141865669F98D64CDA85AD04DEFF47F8A0...   \n",
       "\n",
       "                                            DocIDHash  AverageLeadTime  \\\n",
       "ID                                                                       \n",
       "1   0x434FD3D59469C73AFEA087017FAF8CA2296493AEABDE...               59   \n",
       "2   0xE3B0C44298FC1C149AFBF4C8996FB92427AE41E4649B...               61   \n",
       "3   0x27F5DF762CCDA622C752CCDA45794923BED9F1B66300...                0   \n",
       "4   0x8E59572913BB9B1E6CAA12FA2C8B7BF387B1D1F3432E...               93   \n",
       "5   0x42BDEE0E05A9441C94147076EDDCC47E604DA5447DD4...                0   \n",
       "\n",
       "    LodgingRevenue  OtherRevenue  BookingsCanceled  BookingsNoShowed  \\\n",
       "ID                                                                     \n",
       "1            292.0          82.3                 1                 0   \n",
       "2            280.0          53.0                 0                 0   \n",
       "3              0.0           0.0                 0                 0   \n",
       "4            240.0          60.0                 0                 0   \n",
       "5              0.0           0.0                 0                 0   \n",
       "\n",
       "    BookingsCheckedIn  PersonsNights  RoomNights    DistributionChannel  \\\n",
       "ID                                                                        \n",
       "1                   2              6           4              Corporate   \n",
       "2                   1             10           5  Travel Agent/Operator   \n",
       "3                   0              0           0  Travel Agent/Operator   \n",
       "4                   1             10           5  Travel Agent/Operator   \n",
       "5                   0              0           0  Travel Agent/Operator   \n",
       "\n",
       "            MarketSegment  SRHighFloor  SRLowFloor  SRAccessibleRoom  \\\n",
       "ID                                                                     \n",
       "1               Corporate            0           0                 0   \n",
       "2   Travel Agent/Operator            0           0                 0   \n",
       "3   Travel Agent/Operator            0           0                 0   \n",
       "4   Travel Agent/Operator            0           0                 0   \n",
       "5   Travel Agent/Operator            0           0                 0   \n",
       "\n",
       "    SRMediumFloor  SRBathtub  SRShower  SRCrib  SRKingSizeBed  SRTwinBed  \\\n",
       "ID                                                                         \n",
       "1               0          0         0       0              0          0   \n",
       "2               0          0         0       0              0          0   \n",
       "3               0          0         0       0              0          0   \n",
       "4               0          0         0       0              0          0   \n",
       "5               0          0         0       0              0          0   \n",
       "\n",
       "    SRNearElevator  SRAwayFromElevator  SRNoAlcoholInMiniBar  SRQuietRoom  \n",
       "ID                                                                         \n",
       "1                0                   0                     0            0  \n",
       "2                0                   0                     0            0  \n",
       "3                0                   0                     0            0  \n",
       "4                0                   0                     0            0  \n",
       "5                0                   0                     0            0  "
      ]
     },
     "execution_count": 9,
     "metadata": {},
     "output_type": "execute_result"
    }
   ],
   "source": [
    "df.head(5)"
   ]
  },
  {
   "cell_type": "code",
   "execution_count": 10,
   "metadata": {},
   "outputs": [],
   "source": [
    "# We create a copy to not cause any issues on main dataframe.\n",
    "df_copy = df.copy()"
   ]
  },
  {
   "cell_type": "markdown",
   "metadata": {},
   "source": [
    "<a id = \"EDA\"></a>\n",
    "\n",
    "<div style=\"background-color: #A0C020; padding: 10px; border-radius: 8px; text-align: center; margin-top: 20px; margin-bottom: 20px;\">\n",
    "    <h2 style=\"color: white; margin: 0;\">1.2. Exploratory Data Analysis</h2>\n",
    "</div>"
   ]
  },
  {
   "cell_type": "markdown",
   "metadata": {},
   "source": [
    "<a class=\"anchor\" id=\"Data-Types\">\n",
    "\n",
    "### 1.2.1. Data Types\n",
    "\n",
    "</a>"
   ]
  },
  {
   "cell_type": "code",
   "execution_count": 11,
   "metadata": {},
   "outputs": [
    {
     "data": {
      "text/plain": [
       "Nationality              object\n",
       "Age                     float64\n",
       "DaysSinceCreation         int64\n",
       "NameHash                 object\n",
       "DocIDHash                object\n",
       "AverageLeadTime           int64\n",
       "LodgingRevenue          float64\n",
       "OtherRevenue            float64\n",
       "BookingsCanceled          int64\n",
       "BookingsNoShowed          int64\n",
       "BookingsCheckedIn         int64\n",
       "PersonsNights             int64\n",
       "RoomNights                int64\n",
       "DistributionChannel      object\n",
       "MarketSegment            object\n",
       "SRHighFloor               int64\n",
       "SRLowFloor                int64\n",
       "SRAccessibleRoom          int64\n",
       "SRMediumFloor             int64\n",
       "SRBathtub                 int64\n",
       "SRShower                  int64\n",
       "SRCrib                    int64\n",
       "SRKingSizeBed             int64\n",
       "SRTwinBed                 int64\n",
       "SRNearElevator            int64\n",
       "SRAwayFromElevator        int64\n",
       "SRNoAlcoholInMiniBar      int64\n",
       "SRQuietRoom               int64\n",
       "dtype: object"
      ]
     },
     "execution_count": 11,
     "metadata": {},
     "output_type": "execute_result"
    }
   ],
   "source": [
    "df.dtypes"
   ]
  },
  {
   "cell_type": "code",
   "execution_count": 14,
   "metadata": {},
   "outputs": [
    {
     "name": "stdout",
     "output_type": "stream",
     "text": [
      "<class 'pandas.core.frame.DataFrame'>\n",
      "Index: 111733 entries, 1 to 111733\n",
      "Data columns (total 28 columns):\n",
      " #   Column                Non-Null Count   Dtype  \n",
      "---  ------                --------------   -----  \n",
      " 0   Nationality           111733 non-null  object \n",
      " 1   Age                   107561 non-null  float64\n",
      " 2   DaysSinceCreation     111733 non-null  int64  \n",
      " 3   NameHash              111733 non-null  object \n",
      " 4   DocIDHash             110732 non-null  object \n",
      " 5   AverageLeadTime       111733 non-null  int64  \n",
      " 6   LodgingRevenue        111733 non-null  float64\n",
      " 7   OtherRevenue          111733 non-null  float64\n",
      " 8   BookingsCanceled      111733 non-null  int64  \n",
      " 9   BookingsNoShowed      111733 non-null  int64  \n",
      " 10  BookingsCheckedIn     111733 non-null  int64  \n",
      " 11  PersonsNights         111733 non-null  int64  \n",
      " 12  RoomNights            111733 non-null  int64  \n",
      " 13  DistributionChannel   111733 non-null  object \n",
      " 14  MarketSegment         111733 non-null  object \n",
      " 15  SRHighFloor           111733 non-null  int64  \n",
      " 16  SRLowFloor            111733 non-null  int64  \n",
      " 17  SRAccessibleRoom      111733 non-null  int64  \n",
      " 18  SRMediumFloor         111733 non-null  int64  \n",
      " 19  SRBathtub             111733 non-null  int64  \n",
      " 20  SRShower              111733 non-null  int64  \n",
      " 21  SRCrib                111733 non-null  int64  \n",
      " 22  SRKingSizeBed         111733 non-null  int64  \n",
      " 23  SRTwinBed             111733 non-null  int64  \n",
      " 24  SRNearElevator        111733 non-null  int64  \n",
      " 25  SRAwayFromElevator    111733 non-null  int64  \n",
      " 26  SRNoAlcoholInMiniBar  111733 non-null  int64  \n",
      " 27  SRQuietRoom           111733 non-null  int64  \n",
      "dtypes: float64(3), int64(20), object(5)\n",
      "memory usage: 24.7+ MB\n"
     ]
    }
   ],
   "source": [
    "df.info()"
   ]
  },
  {
   "cell_type": "markdown",
   "metadata": {},
   "source": [
    "`Note`: Its important to optimize the columns datatyes, specially in large models to optimize the model performance. Right now we have a memory usage of 24.7+ MB, but we can clearly see that some columns can be optimized. \n",
    "\n",
    "- Lets see the values of each column to see the optimal type for the Categorical Variables Columns and Numerical Variables: "
   ]
  },
  {
   "cell_type": "markdown",
   "metadata": {},
   "source": [
    "<a class=\"anchor\" id=\"Descriptive-Summary\">\n",
    "\n",
    "### 1.2.2. Univariate EDA: Descriptive Summary\n",
    "\n",
    "</a>"
   ]
  },
  {
   "cell_type": "markdown",
   "metadata": {},
   "source": [
    "#### Numeric Features"
   ]
  },
  {
   "cell_type": "code",
   "execution_count": 13,
   "metadata": {},
   "outputs": [
    {
     "data": {
      "text/html": [
       "<div>\n",
       "<style scoped>\n",
       "    .dataframe tbody tr th:only-of-type {\n",
       "        vertical-align: middle;\n",
       "    }\n",
       "\n",
       "    .dataframe tbody tr th {\n",
       "        vertical-align: top;\n",
       "    }\n",
       "\n",
       "    .dataframe thead th {\n",
       "        text-align: right;\n",
       "    }\n",
       "</style>\n",
       "<table border=\"1\" class=\"dataframe\">\n",
       "  <thead>\n",
       "    <tr style=\"text-align: right;\">\n",
       "      <th></th>\n",
       "      <th>count</th>\n",
       "      <th>mean</th>\n",
       "      <th>std</th>\n",
       "      <th>min</th>\n",
       "      <th>25%</th>\n",
       "      <th>50%</th>\n",
       "      <th>75%</th>\n",
       "      <th>max</th>\n",
       "    </tr>\n",
       "  </thead>\n",
       "  <tbody>\n",
       "    <tr>\n",
       "      <th>Age</th>\n",
       "      <td>107561.0</td>\n",
       "      <td>45.639191</td>\n",
       "      <td>17.244952</td>\n",
       "      <td>-10.0</td>\n",
       "      <td>33.0</td>\n",
       "      <td>47.0</td>\n",
       "      <td>58.0</td>\n",
       "      <td>123.00</td>\n",
       "    </tr>\n",
       "    <tr>\n",
       "      <th>DaysSinceCreation</th>\n",
       "      <td>111733.0</td>\n",
       "      <td>595.026599</td>\n",
       "      <td>374.657382</td>\n",
       "      <td>36.0</td>\n",
       "      <td>288.0</td>\n",
       "      <td>522.0</td>\n",
       "      <td>889.0</td>\n",
       "      <td>1385.00</td>\n",
       "    </tr>\n",
       "    <tr>\n",
       "      <th>AverageLeadTime</th>\n",
       "      <td>111733.0</td>\n",
       "      <td>60.833147</td>\n",
       "      <td>85.115320</td>\n",
       "      <td>-1.0</td>\n",
       "      <td>0.0</td>\n",
       "      <td>21.0</td>\n",
       "      <td>95.0</td>\n",
       "      <td>588.00</td>\n",
       "    </tr>\n",
       "    <tr>\n",
       "      <th>LodgingRevenue</th>\n",
       "      <td>111733.0</td>\n",
       "      <td>283.851283</td>\n",
       "      <td>379.131556</td>\n",
       "      <td>0.0</td>\n",
       "      <td>0.0</td>\n",
       "      <td>208.0</td>\n",
       "      <td>393.3</td>\n",
       "      <td>21781.00</td>\n",
       "    </tr>\n",
       "    <tr>\n",
       "      <th>OtherRevenue</th>\n",
       "      <td>111733.0</td>\n",
       "      <td>64.682802</td>\n",
       "      <td>123.580715</td>\n",
       "      <td>0.0</td>\n",
       "      <td>0.0</td>\n",
       "      <td>31.0</td>\n",
       "      <td>84.0</td>\n",
       "      <td>8859.25</td>\n",
       "    </tr>\n",
       "    <tr>\n",
       "      <th>BookingsCanceled</th>\n",
       "      <td>111733.0</td>\n",
       "      <td>0.002282</td>\n",
       "      <td>0.080631</td>\n",
       "      <td>0.0</td>\n",
       "      <td>0.0</td>\n",
       "      <td>0.0</td>\n",
       "      <td>0.0</td>\n",
       "      <td>15.00</td>\n",
       "    </tr>\n",
       "    <tr>\n",
       "      <th>BookingsNoShowed</th>\n",
       "      <td>111733.0</td>\n",
       "      <td>0.000600</td>\n",
       "      <td>0.028217</td>\n",
       "      <td>0.0</td>\n",
       "      <td>0.0</td>\n",
       "      <td>0.0</td>\n",
       "      <td>0.0</td>\n",
       "      <td>3.00</td>\n",
       "    </tr>\n",
       "    <tr>\n",
       "      <th>BookingsCheckedIn</th>\n",
       "      <td>111733.0</td>\n",
       "      <td>0.737607</td>\n",
       "      <td>0.730889</td>\n",
       "      <td>0.0</td>\n",
       "      <td>0.0</td>\n",
       "      <td>1.0</td>\n",
       "      <td>1.0</td>\n",
       "      <td>76.00</td>\n",
       "    </tr>\n",
       "    <tr>\n",
       "      <th>PersonsNights</th>\n",
       "      <td>111733.0</td>\n",
       "      <td>4.328318</td>\n",
       "      <td>4.630739</td>\n",
       "      <td>0.0</td>\n",
       "      <td>0.0</td>\n",
       "      <td>4.0</td>\n",
       "      <td>6.0</td>\n",
       "      <td>116.00</td>\n",
       "    </tr>\n",
       "    <tr>\n",
       "      <th>RoomNights</th>\n",
       "      <td>111733.0</td>\n",
       "      <td>2.203825</td>\n",
       "      <td>2.301637</td>\n",
       "      <td>0.0</td>\n",
       "      <td>0.0</td>\n",
       "      <td>2.0</td>\n",
       "      <td>3.0</td>\n",
       "      <td>185.00</td>\n",
       "    </tr>\n",
       "    <tr>\n",
       "      <th>SRHighFloor</th>\n",
       "      <td>111733.0</td>\n",
       "      <td>0.042512</td>\n",
       "      <td>0.201755</td>\n",
       "      <td>0.0</td>\n",
       "      <td>0.0</td>\n",
       "      <td>0.0</td>\n",
       "      <td>0.0</td>\n",
       "      <td>1.00</td>\n",
       "    </tr>\n",
       "    <tr>\n",
       "      <th>SRLowFloor</th>\n",
       "      <td>111733.0</td>\n",
       "      <td>0.001307</td>\n",
       "      <td>0.036125</td>\n",
       "      <td>0.0</td>\n",
       "      <td>0.0</td>\n",
       "      <td>0.0</td>\n",
       "      <td>0.0</td>\n",
       "      <td>1.00</td>\n",
       "    </tr>\n",
       "    <tr>\n",
       "      <th>SRAccessibleRoom</th>\n",
       "      <td>111733.0</td>\n",
       "      <td>0.000224</td>\n",
       "      <td>0.014957</td>\n",
       "      <td>0.0</td>\n",
       "      <td>0.0</td>\n",
       "      <td>0.0</td>\n",
       "      <td>0.0</td>\n",
       "      <td>1.00</td>\n",
       "    </tr>\n",
       "    <tr>\n",
       "      <th>SRMediumFloor</th>\n",
       "      <td>111733.0</td>\n",
       "      <td>0.000770</td>\n",
       "      <td>0.027733</td>\n",
       "      <td>0.0</td>\n",
       "      <td>0.0</td>\n",
       "      <td>0.0</td>\n",
       "      <td>0.0</td>\n",
       "      <td>1.00</td>\n",
       "    </tr>\n",
       "    <tr>\n",
       "      <th>SRBathtub</th>\n",
       "      <td>111733.0</td>\n",
       "      <td>0.003132</td>\n",
       "      <td>0.055881</td>\n",
       "      <td>0.0</td>\n",
       "      <td>0.0</td>\n",
       "      <td>0.0</td>\n",
       "      <td>0.0</td>\n",
       "      <td>1.00</td>\n",
       "    </tr>\n",
       "    <tr>\n",
       "      <th>SRShower</th>\n",
       "      <td>111733.0</td>\n",
       "      <td>0.001629</td>\n",
       "      <td>0.040327</td>\n",
       "      <td>0.0</td>\n",
       "      <td>0.0</td>\n",
       "      <td>0.0</td>\n",
       "      <td>0.0</td>\n",
       "      <td>1.00</td>\n",
       "    </tr>\n",
       "    <tr>\n",
       "      <th>SRCrib</th>\n",
       "      <td>111733.0</td>\n",
       "      <td>0.016181</td>\n",
       "      <td>0.126173</td>\n",
       "      <td>0.0</td>\n",
       "      <td>0.0</td>\n",
       "      <td>0.0</td>\n",
       "      <td>0.0</td>\n",
       "      <td>1.00</td>\n",
       "    </tr>\n",
       "    <tr>\n",
       "      <th>SRKingSizeBed</th>\n",
       "      <td>111733.0</td>\n",
       "      <td>0.363268</td>\n",
       "      <td>0.480943</td>\n",
       "      <td>0.0</td>\n",
       "      <td>0.0</td>\n",
       "      <td>0.0</td>\n",
       "      <td>1.0</td>\n",
       "      <td>1.00</td>\n",
       "    </tr>\n",
       "    <tr>\n",
       "      <th>SRTwinBed</th>\n",
       "      <td>111733.0</td>\n",
       "      <td>0.156811</td>\n",
       "      <td>0.363624</td>\n",
       "      <td>0.0</td>\n",
       "      <td>0.0</td>\n",
       "      <td>0.0</td>\n",
       "      <td>0.0</td>\n",
       "      <td>1.00</td>\n",
       "    </tr>\n",
       "    <tr>\n",
       "      <th>SRNearElevator</th>\n",
       "      <td>111733.0</td>\n",
       "      <td>0.000331</td>\n",
       "      <td>0.018195</td>\n",
       "      <td>0.0</td>\n",
       "      <td>0.0</td>\n",
       "      <td>0.0</td>\n",
       "      <td>0.0</td>\n",
       "      <td>1.00</td>\n",
       "    </tr>\n",
       "    <tr>\n",
       "      <th>SRAwayFromElevator</th>\n",
       "      <td>111733.0</td>\n",
       "      <td>0.003598</td>\n",
       "      <td>0.059874</td>\n",
       "      <td>0.0</td>\n",
       "      <td>0.0</td>\n",
       "      <td>0.0</td>\n",
       "      <td>0.0</td>\n",
       "      <td>1.00</td>\n",
       "    </tr>\n",
       "    <tr>\n",
       "      <th>SRNoAlcoholInMiniBar</th>\n",
       "      <td>111733.0</td>\n",
       "      <td>0.000197</td>\n",
       "      <td>0.014031</td>\n",
       "      <td>0.0</td>\n",
       "      <td>0.0</td>\n",
       "      <td>0.0</td>\n",
       "      <td>0.0</td>\n",
       "      <td>1.00</td>\n",
       "    </tr>\n",
       "    <tr>\n",
       "      <th>SRQuietRoom</th>\n",
       "      <td>111733.0</td>\n",
       "      <td>0.087718</td>\n",
       "      <td>0.282886</td>\n",
       "      <td>0.0</td>\n",
       "      <td>0.0</td>\n",
       "      <td>0.0</td>\n",
       "      <td>0.0</td>\n",
       "      <td>1.00</td>\n",
       "    </tr>\n",
       "  </tbody>\n",
       "</table>\n",
       "</div>"
      ],
      "text/plain": [
       "                         count        mean         std   min    25%    50%  \\\n",
       "Age                   107561.0   45.639191   17.244952 -10.0   33.0   47.0   \n",
       "DaysSinceCreation     111733.0  595.026599  374.657382  36.0  288.0  522.0   \n",
       "AverageLeadTime       111733.0   60.833147   85.115320  -1.0    0.0   21.0   \n",
       "LodgingRevenue        111733.0  283.851283  379.131556   0.0    0.0  208.0   \n",
       "OtherRevenue          111733.0   64.682802  123.580715   0.0    0.0   31.0   \n",
       "BookingsCanceled      111733.0    0.002282    0.080631   0.0    0.0    0.0   \n",
       "BookingsNoShowed      111733.0    0.000600    0.028217   0.0    0.0    0.0   \n",
       "BookingsCheckedIn     111733.0    0.737607    0.730889   0.0    0.0    1.0   \n",
       "PersonsNights         111733.0    4.328318    4.630739   0.0    0.0    4.0   \n",
       "RoomNights            111733.0    2.203825    2.301637   0.0    0.0    2.0   \n",
       "SRHighFloor           111733.0    0.042512    0.201755   0.0    0.0    0.0   \n",
       "SRLowFloor            111733.0    0.001307    0.036125   0.0    0.0    0.0   \n",
       "SRAccessibleRoom      111733.0    0.000224    0.014957   0.0    0.0    0.0   \n",
       "SRMediumFloor         111733.0    0.000770    0.027733   0.0    0.0    0.0   \n",
       "SRBathtub             111733.0    0.003132    0.055881   0.0    0.0    0.0   \n",
       "SRShower              111733.0    0.001629    0.040327   0.0    0.0    0.0   \n",
       "SRCrib                111733.0    0.016181    0.126173   0.0    0.0    0.0   \n",
       "SRKingSizeBed         111733.0    0.363268    0.480943   0.0    0.0    0.0   \n",
       "SRTwinBed             111733.0    0.156811    0.363624   0.0    0.0    0.0   \n",
       "SRNearElevator        111733.0    0.000331    0.018195   0.0    0.0    0.0   \n",
       "SRAwayFromElevator    111733.0    0.003598    0.059874   0.0    0.0    0.0   \n",
       "SRNoAlcoholInMiniBar  111733.0    0.000197    0.014031   0.0    0.0    0.0   \n",
       "SRQuietRoom           111733.0    0.087718    0.282886   0.0    0.0    0.0   \n",
       "\n",
       "                        75%       max  \n",
       "Age                    58.0    123.00  \n",
       "DaysSinceCreation     889.0   1385.00  \n",
       "AverageLeadTime        95.0    588.00  \n",
       "LodgingRevenue        393.3  21781.00  \n",
       "OtherRevenue           84.0   8859.25  \n",
       "BookingsCanceled        0.0     15.00  \n",
       "BookingsNoShowed        0.0      3.00  \n",
       "BookingsCheckedIn       1.0     76.00  \n",
       "PersonsNights           6.0    116.00  \n",
       "RoomNights              3.0    185.00  \n",
       "SRHighFloor             0.0      1.00  \n",
       "SRLowFloor              0.0      1.00  \n",
       "SRAccessibleRoom        0.0      1.00  \n",
       "SRMediumFloor           0.0      1.00  \n",
       "SRBathtub               0.0      1.00  \n",
       "SRShower                0.0      1.00  \n",
       "SRCrib                  0.0      1.00  \n",
       "SRKingSizeBed           1.0      1.00  \n",
       "SRTwinBed               0.0      1.00  \n",
       "SRNearElevator          0.0      1.00  \n",
       "SRAwayFromElevator      0.0      1.00  \n",
       "SRNoAlcoholInMiniBar    0.0      1.00  \n",
       "SRQuietRoom             0.0      1.00  "
      ]
     },
     "execution_count": 13,
     "metadata": {},
     "output_type": "execute_result"
    }
   ],
   "source": [
    "# Summary statistics for numeric columns\n",
    "df.describe().T"
   ]
  },
  {
   "cell_type": "markdown",
   "metadata": {},
   "source": [
    "**Numeric variables**: `Age`; `DaysSinceCreation`; `AverageLeadTime`; `LodgingRevenue`; `OtherRevenue`; `BookingsCanceled`; `BookingsNoShowed`; `BookingsCheckedIn`; `PersonsNights`; `RoomNights`.\n",
    "\n",
    "- The only numeric columns that should be in float format are `LodgingRevenue` and `OtherRevenue`. Large range (0 to 21,781) and (0 to 8859.25), so **float32** is optimal for memory without losing precision. This two columns contain **outliers**, with their maximum values being significantly higher than the mean and even the 75th percentile. This indicates that a small number of clients, possibly corporate clients or large groups, spent much more at the hotel compared to the majority. Such outliers can distort summary statistics, including averages and quartiles, potentially leading to a misleading representation of the typical revenue patterns.\n",
    "\n",
    "- The variable `age` contains incorrect negative values and a maximum of 123 which is not possible. The type should be **uint8** because no one is older than 255 years and there are no negative ages.\n",
    "\n",
    "- `DaysSinceCreation` ranges from 36 to 1385, fits within uint16 (0 to 65,535).\n",
    "\n",
    "- `AverageLeadTime` has a negative value of -1 that needs to be adressed because doesn't make sense to have negative values in a variable that represents the *average number of days before arrival date \n",
    "the customer makes bookings*. So the type should be **int16** if we want to consider the negative value or **uint16** (0 to 65,535) if not.\n",
    "\n",
    "- For variables `BookingsCanceled`, `BookingsNoShowed`, `BookingsCheckedIn`, `PersonsNights` and `RoomNights` the type **uint8** (0 to 255) is the best choice. `BookingsCheckedIn`, `PersonsNights` and `RoomNights` have a significant difference between the 3rd quartile and the maximum value, which means they have highly skewed distributions.\n",
    "\n",
    "**Boolean (0: No, 1: Yes)**: `SRHighFloor`; `SRLowFloor`; `SRAccessibleRoom`; `SRMediumFloor`; `SRBathtub`; `SRShower`; `SRCrib`; `SRKingSizeBed`; `SRTwinBed`; `SRNearElevator`; `SRAwayFromElevator`; `SRNoAlcoholInMiniBar`; `SRQuietRoom`.\n",
    "- Boolean variables should be of type **`bool`** or **`int8`** to optimize memory usage."
   ]
  },
  {
   "cell_type": "markdown",
   "metadata": {},
   "source": [
    "Efficient data types:\n",
    "| column                                   | corrected type      |\n",
    "|------------------------------------------|----------------------|\n",
    "| `Age`                                    | `uint8`              | \n",
    "| `DaysSinceCreation`                      | `uint16`            | \n",
    "| `AverageLeadTime`                        | `uint16`           |\n",
    "| `LodgingRevenue`                         | `float32`              | \n",
    "| `OtherRevenue`                           | `float32`              | \n",
    "| `BookingsCanceled`                       | `uint8`              | \n",
    "| `BookingsNoShowed`                       | `uint8`              | \n",
    "| `BookingsCheckedIn`                      | `uint8`              | \n",
    "| `PersonsNights`                         | `uint8`              | \n",
    "| `RoomNights`                         | `uint8`              | \n",
    "| `SRHighFloor`; `SRLowFloor`; `SRAccessibleRoom`; `SRMediumFloor`; `SRBathtub`; `SRShower`; `SRCrib`; `SRKingSizeBed`; `SRTwinBed`; `SRNearElevator`; `SRAwayFromElevator`; `SRNoAlcoholInMiniBar`; `SRQuietRoom`                   | `uint8` or `bool`             | "
   ]
  },
  {
   "cell_type": "markdown",
   "metadata": {},
   "source": [
    "#### Non Numeric Features"
   ]
  },
  {
   "cell_type": "code",
   "execution_count": 15,
   "metadata": {},
   "outputs": [
    {
     "data": {
      "text/html": [
       "<div>\n",
       "<style scoped>\n",
       "    .dataframe tbody tr th:only-of-type {\n",
       "        vertical-align: middle;\n",
       "    }\n",
       "\n",
       "    .dataframe tbody tr th {\n",
       "        vertical-align: top;\n",
       "    }\n",
       "\n",
       "    .dataframe thead th {\n",
       "        text-align: right;\n",
       "    }\n",
       "</style>\n",
       "<table border=\"1\" class=\"dataframe\">\n",
       "  <thead>\n",
       "    <tr style=\"text-align: right;\">\n",
       "      <th></th>\n",
       "      <th>count</th>\n",
       "      <th>unique</th>\n",
       "      <th>top</th>\n",
       "      <th>freq</th>\n",
       "    </tr>\n",
       "  </thead>\n",
       "  <tbody>\n",
       "    <tr>\n",
       "      <th>Nationality</th>\n",
       "      <td>111733</td>\n",
       "      <td>199</td>\n",
       "      <td>FRA</td>\n",
       "      <td>16516</td>\n",
       "    </tr>\n",
       "    <tr>\n",
       "      <th>NameHash</th>\n",
       "      <td>111733</td>\n",
       "      <td>107584</td>\n",
       "      <td>0x15A713CE687991691A18F6CDC56ABE24979C73CF5D51...</td>\n",
       "      <td>75</td>\n",
       "    </tr>\n",
       "    <tr>\n",
       "      <th>DocIDHash</th>\n",
       "      <td>110732</td>\n",
       "      <td>103480</td>\n",
       "      <td>0xE3B0C44298FC1C149AFBF4C8996FB92427AE41E4649B...</td>\n",
       "      <td>3032</td>\n",
       "    </tr>\n",
       "    <tr>\n",
       "      <th>DistributionChannel</th>\n",
       "      <td>111733</td>\n",
       "      <td>4</td>\n",
       "      <td>Travel Agent/Operator</td>\n",
       "      <td>91019</td>\n",
       "    </tr>\n",
       "    <tr>\n",
       "      <th>MarketSegment</th>\n",
       "      <td>111733</td>\n",
       "      <td>7</td>\n",
       "      <td>Other</td>\n",
       "      <td>63680</td>\n",
       "    </tr>\n",
       "  </tbody>\n",
       "</table>\n",
       "</div>"
      ],
      "text/plain": [
       "                      count  unique  \\\n",
       "Nationality          111733     199   \n",
       "NameHash             111733  107584   \n",
       "DocIDHash            110732  103480   \n",
       "DistributionChannel  111733       4   \n",
       "MarketSegment        111733       7   \n",
       "\n",
       "                                                                   top   freq  \n",
       "Nationality                                                        FRA  16516  \n",
       "NameHash             0x15A713CE687991691A18F6CDC56ABE24979C73CF5D51...     75  \n",
       "DocIDHash            0xE3B0C44298FC1C149AFBF4C8996FB92427AE41E4649B...   3032  \n",
       "DistributionChannel                              Travel Agent/Operator  91019  \n",
       "MarketSegment                                                    Other  63680  "
      ]
     },
     "execution_count": 15,
     "metadata": {},
     "output_type": "execute_result"
    }
   ],
   "source": [
    "# Summary statistics for non numeric columns\n",
    "df.describe(include = ['O']).T"
   ]
  },
  {
   "cell_type": "markdown",
   "metadata": {},
   "source": [
    "**Categorical Variables**: `Nationality`; `NameHash`; `DocIDHash`; `DistributionChannel`; `MarketSegment` are correctly defined as object.\n",
    "\n",
    "`Nationality:`\n",
    "   - Contains **199 unique values**, meaning there is a good amount of diversity in customer origins.  \n",
    "   - The most common nationality is **\"FRA\" (France)**, appearing **16,516 times**.  \n",
    "   - This suggests a strong concentration of customers from France.\n",
    "\n",
    "`NameHash & DocIDHash:`\n",
    "   - These are **hashed identifiers** for anonymized customer and document data.  \n",
    "   - **High uniqueness**: `NameHash` has **107,584 unique values** (almost as many as total rows), and `DocIDHash` has **103,480 unique values**.  \n",
    "   - This confirms that these columns mostly contain unique identifiers.\n",
    "   - The `DocIDHash` column has a count of 110,732, which is less than the total count of 111,733 in the other columns. This discrepancy typically occurs due to missing or null values.\n",
    "\n",
    "`DistributionChannel:`\n",
    "   - Has only **4 unique categories**, making it a **low-cardinality categorical variable**.  \n",
    "   - The most frequent category is **\"Travel Agent/Operator\"**, occurring **91,019 times**, meaning most bookings come through agents or operators.\n",
    "\n",
    "`MarketSegment:` \n",
    "   - Contains **7 unique categories**, which is still relatively low in cardinality.  \n",
    "   - The most common segment is **\"Other\"** (lack of specificity), appearing **63,680 times**.\n",
    "\n",
    "**Recommendation for Data Processing:**\n",
    "- `Nationality`: Consider grouping less frequent nationalities into an \"Other\" category if needed for modeling.    "
   ]
  },
  {
   "cell_type": "markdown",
   "metadata": {},
   "source": [
    "<a class=\"anchor\" id=\"missingvalues\">\n",
    "\n",
    "### 1.2.3. Missing Values\n",
    "\n",
    "</a>"
   ]
  },
  {
   "cell_type": "code",
   "execution_count": 16,
   "metadata": {},
   "outputs": [
    {
     "data": {
      "text/html": [
       "<div>\n",
       "<style scoped>\n",
       "    .dataframe tbody tr th:only-of-type {\n",
       "        vertical-align: middle;\n",
       "    }\n",
       "\n",
       "    .dataframe tbody tr th {\n",
       "        vertical-align: top;\n",
       "    }\n",
       "\n",
       "    .dataframe thead th {\n",
       "        text-align: right;\n",
       "    }\n",
       "</style>\n",
       "<table border=\"1\" class=\"dataframe\">\n",
       "  <thead>\n",
       "    <tr style=\"text-align: right;\">\n",
       "      <th></th>\n",
       "      <th>Total</th>\n",
       "      <th>Percentage</th>\n",
       "    </tr>\n",
       "  </thead>\n",
       "  <tbody>\n",
       "    <tr>\n",
       "      <th>Age</th>\n",
       "      <td>4172</td>\n",
       "      <td>3.73%</td>\n",
       "    </tr>\n",
       "    <tr>\n",
       "      <th>DocIDHash</th>\n",
       "      <td>1001</td>\n",
       "      <td>0.9%</td>\n",
       "    </tr>\n",
       "    <tr>\n",
       "      <th>Nationality</th>\n",
       "      <td>0</td>\n",
       "      <td>0.0%</td>\n",
       "    </tr>\n",
       "    <tr>\n",
       "      <th>SRHighFloor</th>\n",
       "      <td>0</td>\n",
       "      <td>0.0%</td>\n",
       "    </tr>\n",
       "    <tr>\n",
       "      <th>SRNoAlcoholInMiniBar</th>\n",
       "      <td>0</td>\n",
       "      <td>0.0%</td>\n",
       "    </tr>\n",
       "    <tr>\n",
       "      <th>SRAwayFromElevator</th>\n",
       "      <td>0</td>\n",
       "      <td>0.0%</td>\n",
       "    </tr>\n",
       "    <tr>\n",
       "      <th>SRNearElevator</th>\n",
       "      <td>0</td>\n",
       "      <td>0.0%</td>\n",
       "    </tr>\n",
       "    <tr>\n",
       "      <th>SRTwinBed</th>\n",
       "      <td>0</td>\n",
       "      <td>0.0%</td>\n",
       "    </tr>\n",
       "    <tr>\n",
       "      <th>SRKingSizeBed</th>\n",
       "      <td>0</td>\n",
       "      <td>0.0%</td>\n",
       "    </tr>\n",
       "    <tr>\n",
       "      <th>SRCrib</th>\n",
       "      <td>0</td>\n",
       "      <td>0.0%</td>\n",
       "    </tr>\n",
       "    <tr>\n",
       "      <th>SRShower</th>\n",
       "      <td>0</td>\n",
       "      <td>0.0%</td>\n",
       "    </tr>\n",
       "    <tr>\n",
       "      <th>SRBathtub</th>\n",
       "      <td>0</td>\n",
       "      <td>0.0%</td>\n",
       "    </tr>\n",
       "    <tr>\n",
       "      <th>SRMediumFloor</th>\n",
       "      <td>0</td>\n",
       "      <td>0.0%</td>\n",
       "    </tr>\n",
       "    <tr>\n",
       "      <th>SRAccessibleRoom</th>\n",
       "      <td>0</td>\n",
       "      <td>0.0%</td>\n",
       "    </tr>\n",
       "    <tr>\n",
       "      <th>SRLowFloor</th>\n",
       "      <td>0</td>\n",
       "      <td>0.0%</td>\n",
       "    </tr>\n",
       "    <tr>\n",
       "      <th>MarketSegment</th>\n",
       "      <td>0</td>\n",
       "      <td>0.0%</td>\n",
       "    </tr>\n",
       "    <tr>\n",
       "      <th>DistributionChannel</th>\n",
       "      <td>0</td>\n",
       "      <td>0.0%</td>\n",
       "    </tr>\n",
       "    <tr>\n",
       "      <th>RoomNights</th>\n",
       "      <td>0</td>\n",
       "      <td>0.0%</td>\n",
       "    </tr>\n",
       "    <tr>\n",
       "      <th>PersonsNights</th>\n",
       "      <td>0</td>\n",
       "      <td>0.0%</td>\n",
       "    </tr>\n",
       "    <tr>\n",
       "      <th>BookingsCheckedIn</th>\n",
       "      <td>0</td>\n",
       "      <td>0.0%</td>\n",
       "    </tr>\n",
       "    <tr>\n",
       "      <th>BookingsNoShowed</th>\n",
       "      <td>0</td>\n",
       "      <td>0.0%</td>\n",
       "    </tr>\n",
       "    <tr>\n",
       "      <th>BookingsCanceled</th>\n",
       "      <td>0</td>\n",
       "      <td>0.0%</td>\n",
       "    </tr>\n",
       "    <tr>\n",
       "      <th>OtherRevenue</th>\n",
       "      <td>0</td>\n",
       "      <td>0.0%</td>\n",
       "    </tr>\n",
       "    <tr>\n",
       "      <th>LodgingRevenue</th>\n",
       "      <td>0</td>\n",
       "      <td>0.0%</td>\n",
       "    </tr>\n",
       "    <tr>\n",
       "      <th>AverageLeadTime</th>\n",
       "      <td>0</td>\n",
       "      <td>0.0%</td>\n",
       "    </tr>\n",
       "    <tr>\n",
       "      <th>NameHash</th>\n",
       "      <td>0</td>\n",
       "      <td>0.0%</td>\n",
       "    </tr>\n",
       "    <tr>\n",
       "      <th>DaysSinceCreation</th>\n",
       "      <td>0</td>\n",
       "      <td>0.0%</td>\n",
       "    </tr>\n",
       "    <tr>\n",
       "      <th>SRQuietRoom</th>\n",
       "      <td>0</td>\n",
       "      <td>0.0%</td>\n",
       "    </tr>\n",
       "  </tbody>\n",
       "</table>\n",
       "</div>"
      ],
      "text/plain": [
       "                      Total Percentage\n",
       "Age                    4172      3.73%\n",
       "DocIDHash              1001       0.9%\n",
       "Nationality               0       0.0%\n",
       "SRHighFloor               0       0.0%\n",
       "SRNoAlcoholInMiniBar      0       0.0%\n",
       "SRAwayFromElevator        0       0.0%\n",
       "SRNearElevator            0       0.0%\n",
       "SRTwinBed                 0       0.0%\n",
       "SRKingSizeBed             0       0.0%\n",
       "SRCrib                    0       0.0%\n",
       "SRShower                  0       0.0%\n",
       "SRBathtub                 0       0.0%\n",
       "SRMediumFloor             0       0.0%\n",
       "SRAccessibleRoom          0       0.0%\n",
       "SRLowFloor                0       0.0%\n",
       "MarketSegment             0       0.0%\n",
       "DistributionChannel       0       0.0%\n",
       "RoomNights                0       0.0%\n",
       "PersonsNights             0       0.0%\n",
       "BookingsCheckedIn         0       0.0%\n",
       "BookingsNoShowed          0       0.0%\n",
       "BookingsCanceled          0       0.0%\n",
       "OtherRevenue              0       0.0%\n",
       "LodgingRevenue            0       0.0%\n",
       "AverageLeadTime           0       0.0%\n",
       "NameHash                  0       0.0%\n",
       "DaysSinceCreation         0       0.0%\n",
       "SRQuietRoom               0       0.0%"
      ]
     },
     "execution_count": 16,
     "metadata": {},
     "output_type": "execute_result"
    }
   ],
   "source": [
    "# Checking missing values - Code adapted from prev notebook\n",
    "missing_values = df.isnull().sum().to_frame(name='Total')\n",
    "missing_values['Percentage'] = (missing_values['Total'] / len(df) * 100).round(2).astype(str) + '%'\n",
    "missing_values.sort_values(by='Total', ascending=False, inplace=True)\n",
    "missing_values"
   ]
  },
  {
   "cell_type": "markdown",
   "metadata": {},
   "source": [
    "Only columns `Age` and `DocIDHash` have missing values, 3.73% and 0.9% respectively. Different methods can be used to correct these columns during preparation. "
   ]
  },
  {
   "cell_type": "code",
   "execution_count": 23,
   "metadata": {},
   "outputs": [
    {
     "data": {
      "text/plain": [
       "'99.6% of the rows with missing values in DocIDHash never stayed at the hotel.'"
      ]
     },
     "execution_count": 23,
     "metadata": {},
     "output_type": "execute_result"
    }
   ],
   "source": [
    "total_missing_docid = df['DocIDHash'].isnull().sum()\n",
    "\n",
    "# See if the persons with the missing DocIDHash ever stayed at the hotel\n",
    "missing_docid_nocheckin = ((df['DocIDHash'].isnull()) & (df['BookingsCheckedIn'] == 0)).sum()\n",
    "\n",
    "percentage_docid_nocheckin = (missing_docid_nocheckin / total_missing_docid) * 100\n",
    "\n",
    "f'{round(percentage_docid_nocheckin, 2)}% of the rows with missing values in DocIDHash never stayed at the hotel.'"
   ]
  },
  {
   "cell_type": "markdown",
   "metadata": {},
   "source": [
    "Therefore, we can conclude that almost 100% of the missing values in `DocIDHash` correspond to clients that didn't show up."
   ]
  },
  {
   "cell_type": "markdown",
   "metadata": {},
   "source": [
    "<a class=\"anchor\" id=\"Univariate-Vizualization\">\n",
    "\n",
    "### 1.2.4. Univariate EDA: Data Visualization\n",
    "\n",
    "</a>"
   ]
  },
  {
   "cell_type": "code",
   "execution_count": 26,
   "metadata": {},
   "outputs": [],
   "source": [
    "numeric_variables = ['Age', 'DaysSinceCreation', 'AverageLeadTime', 'LodgingRevenue', \n",
    "                'OtherRevenue', 'BookingsCanceled', 'BookingsNoShowed', \n",
    "                'BookingsCheckedIn', 'PersonsNights', 'RoomNights']\n",
    "\n",
    "categorical_variables = ['Nationality', 'DistributionChannel', 'MarketSegment'] \n",
    "# we are not going to consider NameHash and DocIdHash here, because this features are identifiers\n",
    "\n",
    "boolean_variables = ['SRHighFloor', 'SRLowFloor', 'SRAccessibleRoom', 'SRMediumFloor', \n",
    "                'SRBathtub', 'SRShower', 'SRCrib', 'SRKingSizeBed', 'SRTwinBed', \n",
    "                'SRNearElevator', 'SRAwayFromElevator', 'SRNoAlcoholInMiniBar', \n",
    "                'SRQuietRoom']"
   ]
  },
  {
   "cell_type": "markdown",
   "metadata": {},
   "source": [
    "#### Numeric variables: Histograms"
   ]
  },
  {
   "cell_type": "code",
   "execution_count": 29,
   "metadata": {},
   "outputs": [
    {
     "data": {
      "image/png": "[encoded data removed]",
      "text/plain": [
       "<Figure size 1600x600 with 10 Axes>"
      ]
     },
     "metadata": {},
     "output_type": "display_data"
    }
   ],
   "source": [
    "fig, axes = plt.subplots(2, 5, figsize=(16, 6))\n",
    "fig.tight_layout(pad=5.0)\n",
    "\n",
    "for i, var in enumerate(numeric_variables):\n",
    "    row = i // 5\n",
    "    col = i % 5\n",
    "    axes[row, col].hist(df[var], bins=20, edgecolor='black', color='#A0C020')\n",
    "    axes[row, col].set_title(var)\n",
    "    axes[row, col].set_xlabel('Value')\n",
    "    axes[row, col].set_ylabel('Frequency')\n",
    "\n",
    "plt.show()\n",
    "\n",
    "#Adapted from previous notebook"
   ]
  },
  {
   "cell_type": "markdown",
   "metadata": {},
   "source": [
    "- `Age`: The distribution appears to be approximately normal, with most values concentrated around the middle range (30-60 years old). There are few very young or very old customers. Middle-aged individuals may have greater financial stability and a stronger desire for comfort, making them willing to spend more and more frequently on accommodations.\n",
    "\n",
    "- `DaysSinceCreation`: More frequency in lower values and a gradual decline as values increase. This suggests that most accounts were created recently.\n",
    "\n",
    "- `AverageLeadTime`, `LodgingRevenue`, `OtherRevenue`,`BookingsCanceled`,`BookingsNoShowed`, `BookingsCheckedIn`, `PersonsNights`, `RoomNights` are highly right-skewed, with most values concentrated near zero and a few extreme cases. This suggests that the majority of bookings are short stays, generate low additional revenue, and have minimal cancellations or no-shows. However, there are occasional high-value outliers, indicating a small subset of customers who book well in advance, stay longer, or spend significantly more."
   ]
  },
  {
   "cell_type": "markdown",
   "metadata": {},
   "source": [
    "#### Numeric variables: Box Plots"
   ]
  },
  {
   "cell_type": "code",
   "execution_count": 34,
   "metadata": {},
   "outputs": [
    {
     "data": {
      "image/png": "[encoded data removed]",
      "text/plain": [
       "<Figure size 1600x600 with 10 Axes>"
      ]
     },
     "metadata": {},
     "output_type": "display_data"
    }
   ],
   "source": [
    "rows = 2\n",
    "cols = 5\n",
    "fig, axes = plt.subplots(rows, cols, figsize=(16, 6), constrained_layout=True)\n",
    "for ax, var in zip(axes.flatten(), numeric_variables):\n",
    "    sns.boxplot(x=df[var], ax=ax, orient='h', boxprops=dict(facecolor='#A0C020'))\n",
    "    ax.set_title(var)\n",
    "fig.suptitle('Boxplots of all numeric variables', fontsize=12)\n",
    "plt.show()\n",
    "\n",
    "#Adapted from previous notebook"
   ]
  },
  {
   "cell_type": "markdown",
   "metadata": {},
   "source": [
    "The boxplots confirm the conclusion we took in the histograms.\n",
    "Outliers will be adressed during the data preparation phase."
   ]
  },
  {
   "cell_type": "markdown",
   "metadata": {},
   "source": [
    "#### Categorical variables: BarPlots"
   ]
  },
  {
   "cell_type": "code",
   "execution_count": 58,
   "metadata": {},
   "outputs": [
    {
     "data": {
      "image/png": "[encoded data removed]",
      "text/plain": [
       "<Figure size 1600x600 with 2 Axes>"
      ]
     },
     "metadata": {},
     "output_type": "display_data"
    },
    {
     "data": {
      "image/png": "[encoded data removed]",
      "text/plain": [
       "<Figure size 4500x2500 with 1 Axes>"
      ]
     },
     "metadata": {},
     "output_type": "display_data"
    }
   ],
   "source": [
    "plt.figure(figsize=(16, 6))\n",
    "\n",
    "# Plot bar charts for DistributionChannel and MarketSegmentat\n",
    "\n",
    "for i, var in enumerate(categorical_variables, 1):\n",
    "    if var != 'Nationality':\n",
    "        plt.subplot(1, 3, i)\n",
    "        sns.countplot(data=df, y=var, order=df[var].value_counts().index, color='#A0C020')\n",
    "        plt.xlabel(var)\n",
    "        plt.ylabel('Count')\n",
    "        plt.title(f'Distribution of {var}')\n",
    "        plt.xticks(rotation=0)\n",
    "\n",
    "plt.tight_layout()\n",
    "plt.show()\n",
    "\n",
    "\n",
    "plt.figure(figsize=(45, 25))\n",
    "\n",
    "# Plot bar chart for Nationality\n",
    "sns.countplot(data=df, x='Nationality', order=df['Nationality'].value_counts().index, color='#A0C020')\n",
    "plt.xlabel('Nationality', fontsize=40)\n",
    "plt.ylabel('Count', fontsize=40)\n",
    "plt.title('Distribution of Nationality', fontsize=40)\n",
    "plt.xticks(rotation=45)\n",
    "\n",
    "plt.tight_layout()\n",
    "plt.show()\n",
    "\n",
    "\n",
    "#Adapted from Chat GPT"
   ]
  },
  {
   "cell_type": "markdown",
   "metadata": {},
   "source": [
    "The most dominant `DistributionChannel` is Travel/Operator. However, when examining the `MarketSegment`, this category does not stand out as prominently. Instead, the majority of customers fall under the 'Other' segment. Unfortunately, there is no detailed explanation regarding the business application or characteristics of this segment. Regarding `Nationality`, France is the country with the strongest concentration of customers."
   ]
  },
  {
   "cell_type": "markdown",
   "metadata": {},
   "source": [
    "#### Categorical variables: Geographic Map"
   ]
  },
  {
   "cell_type": "markdown",
   "metadata": {},
   "source": [
    "The `Nationality` Bar Plot is difficult to visualize, so we are going to develop a Geographic Map to study this feature distribution."
   ]
  },
  {
   "cell_type": "code",
   "execution_count": 61,
   "metadata": {},
   "outputs": [
    {
     "data": {
      "text/html": [
       "<div>\n",
       "<style scoped>\n",
       "    .dataframe tbody tr th:only-of-type {\n",
       "        vertical-align: middle;\n",
       "    }\n",
       "\n",
       "    .dataframe tbody tr th {\n",
       "        vertical-align: top;\n",
       "    }\n",
       "\n",
       "    .dataframe thead th {\n",
       "        text-align: right;\n",
       "    }\n",
       "</style>\n",
       "<table border=\"1\" class=\"dataframe\">\n",
       "  <thead>\n",
       "    <tr style=\"text-align: right;\">\n",
       "      <th></th>\n",
       "      <th>Country</th>\n",
       "      <th>VisitorCount</th>\n",
       "      <th>Percentage</th>\n",
       "    </tr>\n",
       "  </thead>\n",
       "  <tbody>\n",
       "    <tr>\n",
       "      <th>0</th>\n",
       "      <td>FRA</td>\n",
       "      <td>16516</td>\n",
       "      <td>15%</td>\n",
       "    </tr>\n",
       "    <tr>\n",
       "      <th>1</th>\n",
       "      <td>DEU</td>\n",
       "      <td>14805</td>\n",
       "      <td>13%</td>\n",
       "    </tr>\n",
       "    <tr>\n",
       "      <th>2</th>\n",
       "      <td>PRT</td>\n",
       "      <td>14101</td>\n",
       "      <td>13%</td>\n",
       "    </tr>\n",
       "    <tr>\n",
       "      <th>3</th>\n",
       "      <td>GBR</td>\n",
       "      <td>11462</td>\n",
       "      <td>10%</td>\n",
       "    </tr>\n",
       "    <tr>\n",
       "      <th>4</th>\n",
       "      <td>ESP</td>\n",
       "      <td>6123</td>\n",
       "      <td>5%</td>\n",
       "    </tr>\n",
       "    <tr>\n",
       "      <th>5</th>\n",
       "      <td>USA</td>\n",
       "      <td>5409</td>\n",
       "      <td>5%</td>\n",
       "    </tr>\n",
       "    <tr>\n",
       "      <th>6</th>\n",
       "      <td>ITA</td>\n",
       "      <td>4268</td>\n",
       "      <td>4%</td>\n",
       "    </tr>\n",
       "    <tr>\n",
       "      <th>7</th>\n",
       "      <td>BEL</td>\n",
       "      <td>4111</td>\n",
       "      <td>4%</td>\n",
       "    </tr>\n",
       "    <tr>\n",
       "      <th>8</th>\n",
       "      <td>BRA</td>\n",
       "      <td>4037</td>\n",
       "      <td>4%</td>\n",
       "    </tr>\n",
       "    <tr>\n",
       "      <th>9</th>\n",
       "      <td>NLD</td>\n",
       "      <td>3794</td>\n",
       "      <td>3%</td>\n",
       "    </tr>\n",
       "  </tbody>\n",
       "</table>\n",
       "</div>"
      ],
      "text/plain": [
       "  Country  VisitorCount Percentage\n",
       "0     FRA         16516        15%\n",
       "1     DEU         14805        13%\n",
       "2     PRT         14101        13%\n",
       "3     GBR         11462        10%\n",
       "4     ESP          6123         5%\n",
       "5     USA          5409         5%\n",
       "6     ITA          4268         4%\n",
       "7     BEL          4111         4%\n",
       "8     BRA          4037         4%\n",
       "9     NLD          3794         3%"
      ]
     },
     "execution_count": 61,
     "metadata": {},
     "output_type": "execute_result"
    }
   ],
   "source": [
    "# Agg the count of visitors by nationality\n",
    "nationality_counts = df['Nationality'].value_counts().reset_index()\n",
    "nationality_counts.columns = ['Country', 'VisitorCount']\n",
    "nationality_counts['Percentage'] = (nationality_counts['VisitorCount'] / nationality_counts['VisitorCount'].sum()) * 100\n",
    "nationality_counts['Percentage'] = nationality_counts['Percentage'].map('{:.0f}%'.format)\n",
    "nationality_counts = nationality_counts.sort_values(by='VisitorCount', ascending=False)\n",
    "\n",
    "nationality_counts.head(10)"
   ]
  },
  {
   "cell_type": "code",
   "execution_count": 64,
   "metadata": {},
   "outputs": [
    {
     "data": {
      "application/vnd.plotly.v1+json": {
       "config": {
        "plotlyServerURL": "https://plot.ly"
       },
       "data": [
        {
         "autocolorscale": false,
         "colorbar": {
          "tickprefix": "",
          "title": {
           "text": "Count of Visitors"
          }
         },
         "colorscale": [
          [
           0,
           "rgb(247,252,245)"
          ],
          [
           0.125,
           "rgb(229,245,224)"
          ],
          [
           0.25,
           "rgb(199,233,192)"
          ],
          [
           0.375,
           "rgb(161,217,155)"
          ],
          [
           0.5,
           "rgb(116,196,118)"
          ],
          [
           0.625,
           "rgb(65,171,93)"
          ],
          [
           0.75,
           "rgb(35,139,69)"
          ],
          [
           0.875,
           "rgb(0,109,44)"
          ],
          [
           1,
           "rgb(0,68,27)"
          ]
         ],
         "locations": [
          "FRA",
          "DEU",
          "PRT",
          "GBR",
          "ESP",
          "USA",
          "ITA",
          "BEL",
          "BRA",
          "NLD",
          "IRL",
          "CHE",
          "CAN",
          "AUT",
          "SWE",
          "ISR",
          "CHN",
          "NOR",
          "POL",
          "AUS",
          "FIN",
          "DNK",
          "RUS",
          "ROU",
          "HUN",
          "JPN",
          "LUX",
          "CZE",
          "GRC",
          "IND",
          "MEX",
          "KOR",
          "AGO",
          "ARG",
          "MAR",
          "TUR",
          "BGR",
          "HRV",
          "SRB",
          "UKR",
          "NZL",
          "EST",
          "CHL",
          "SVK",
          "COL",
          "LVA",
          "MOZ",
          "LTU",
          "ZAF",
          "IRN",
          "CYP",
          "DZA",
          "SVN",
          "ISL",
          "TWN",
          "AZE",
          "PHL",
          "TUN",
          "LBN",
          "PER",
          "SGP",
          "MLT",
          "EGY",
          "URY",
          "THA",
          "CMR",
          "VEN",
          "SAU",
          "BLR",
          "VNM",
          "BIH",
          "ECU",
          "ARE",
          "IDN",
          "CPV",
          "MKD",
          "NGA",
          "MYS",
          "JOR",
          "KAZ",
          "PAN",
          "CRI",
          "ALB",
          "PAK",
          "KWT",
          "DOM",
          "BOL",
          "GEO",
          "ARM",
          "GTM",
          "RWA",
          "GNB",
          "IRQ",
          "OMN",
          "CUB",
          "KEN",
          "ATF",
          "LBY",
          "LIE",
          "COD",
          "SEN",
          "QAT",
          "PRY",
          "SYC",
          "SYR",
          "UGA",
          "BGD",
          "AND",
          "LKA",
          "SMR",
          "BHR",
          "MUS",
          "SUR",
          "BRB",
          "NAM",
          "BEN",
          "CIV",
          "MLI",
          "SLV",
          "JAM",
          "KGZ",
          "HTI",
          "GAB",
          "MDV",
          "MNE",
          "NIC",
          "TGO",
          "HKG",
          "CAF",
          "STP",
          "GHA",
          "ATA",
          "COM",
          "GIB",
          "UZB",
          "PRI",
          "ASM",
          "MCO",
          "TJK",
          "SPM",
          "LAO",
          "ETH",
          "BWA",
          "ATG",
          "HND",
          "MDG",
          "AIA",
          "MWI",
          "UMI",
          "AFG",
          "ABW",
          "GIN",
          "SDN",
          "BMU",
          "ERI",
          "SLE",
          "KNA",
          "TKM",
          "YEM",
          "SJM",
          "GRD",
          "TCD",
          "WLF",
          "MMR",
          "GUF",
          "CYM",
          "FSM",
          "VIR",
          "GNQ",
          "NCL",
          "KIR",
          "FRO",
          "DMA",
          "ZWE",
          "JEY",
          "BHS",
          "SWZ",
          "FLK",
          "TMP",
          "TZA",
          "PNG",
          "MRT",
          "PYF",
          "FJI",
          "GUY",
          "LCA",
          "WSM",
          "IOT",
          "SOM",
          "TTO",
          "NRU",
          "NPL",
          "COK",
          "TON",
          "PCN",
          "NER",
          "BFA",
          "VCT",
          "BDI"
         ],
         "marker": {
          "line": {
           "color": "black",
           "width": 0.5
          }
         },
         "reversescale": false,
         "text": [
          "FRA",
          "DEU",
          "PRT",
          "GBR",
          "ESP",
          "USA",
          "ITA",
          "BEL",
          "BRA",
          "NLD",
          "IRL",
          "CHE",
          "CAN",
          "AUT",
          "SWE",
          "ISR",
          "CHN",
          "NOR",
          "POL",
          "AUS",
          "FIN",
          "DNK",
          "RUS",
          "ROU",
          "HUN",
          "JPN",
          "LUX",
          "CZE",
          "GRC",
          "IND",
          "MEX",
          "KOR",
          "AGO",
          "ARG",
          "MAR",
          "TUR",
          "BGR",
          "HRV",
          "SRB",
          "UKR",
          "NZL",
          "EST",
          "CHL",
          "SVK",
          "COL",
          "LVA",
          "MOZ",
          "LTU",
          "ZAF",
          "IRN",
          "CYP",
          "DZA",
          "SVN",
          "ISL",
          "TWN",
          "AZE",
          "PHL",
          "TUN",
          "LBN",
          "PER",
          "SGP",
          "MLT",
          "EGY",
          "URY",
          "THA",
          "CMR",
          "VEN",
          "SAU",
          "BLR",
          "VNM",
          "BIH",
          "ECU",
          "ARE",
          "IDN",
          "CPV",
          "MKD",
          "NGA",
          "MYS",
          "JOR",
          "KAZ",
          "PAN",
          "CRI",
          "ALB",
          "PAK",
          "KWT",
          "DOM",
          "BOL",
          "GEO",
          "ARM",
          "GTM",
          "RWA",
          "GNB",
          "IRQ",
          "OMN",
          "CUB",
          "KEN",
          "ATF",
          "LBY",
          "LIE",
          "COD",
          "SEN",
          "QAT",
          "PRY",
          "SYC",
          "SYR",
          "UGA",
          "BGD",
          "AND",
          "LKA",
          "SMR",
          "BHR",
          "MUS",
          "SUR",
          "BRB",
          "NAM",
          "BEN",
          "CIV",
          "MLI",
          "SLV",
          "JAM",
          "KGZ",
          "HTI",
          "GAB",
          "MDV",
          "MNE",
          "NIC",
          "TGO",
          "HKG",
          "CAF",
          "STP",
          "GHA",
          "ATA",
          "COM",
          "GIB",
          "UZB",
          "PRI",
          "ASM",
          "MCO",
          "TJK",
          "SPM",
          "LAO",
          "ETH",
          "BWA",
          "ATG",
          "HND",
          "MDG",
          "AIA",
          "MWI",
          "UMI",
          "AFG",
          "ABW",
          "GIN",
          "SDN",
          "BMU",
          "ERI",
          "SLE",
          "KNA",
          "TKM",
          "YEM",
          "SJM",
          "GRD",
          "TCD",
          "WLF",
          "MMR",
          "GUF",
          "CYM",
          "FSM",
          "VIR",
          "GNQ",
          "NCL",
          "KIR",
          "FRO",
          "DMA",
          "ZWE",
          "JEY",
          "BHS",
          "SWZ",
          "FLK",
          "TMP",
          "TZA",
          "PNG",
          "MRT",
          "PYF",
          "FJI",
          "GUY",
          "LCA",
          "WSM",
          "IOT",
          "SOM",
          "TTO",
          "NRU",
          "NPL",
          "COK",
          "TON",
          "PCN",
          "NER",
          "BFA",
          "VCT",
          "BDI"
         ],
         "type": "choropleth",
         "z": [
          16516,
          14805,
          14101,
          11462,
          6123,
          5409,
          4268,
          4111,
          4037,
          3794,
          2938,
          2686,
          2192,
          1949,
          1687,
          1149,
          1147,
          1055,
          1035,
          1022,
          906,
          875,
          792,
          583,
          412,
          349,
          310,
          307,
          293,
          271,
          249,
          239,
          239,
          211,
          210,
          208,
          194,
          187,
          170,
          153,
          146,
          142,
          116,
          116,
          104,
          103,
          101,
          98,
          96,
          91,
          90,
          87,
          86,
          82,
          80,
          64,
          59,
          54,
          50,
          49,
          47,
          43,
          41,
          41,
          40,
          38,
          37,
          37,
          35,
          34,
          33,
          31,
          31,
          31,
          24,
          24,
          24,
          23,
          22,
          21,
          20,
          19,
          19,
          17,
          15,
          15,
          14,
          14,
          14,
          13,
          12,
          12,
          12,
          12,
          11,
          11,
          11,
          10,
          10,
          10,
          10,
          10,
          10,
          9,
          9,
          9,
          9,
          8,
          8,
          8,
          8,
          7,
          7,
          7,
          7,
          7,
          7,
          7,
          6,
          6,
          6,
          6,
          5,
          5,
          5,
          5,
          5,
          5,
          5,
          4,
          4,
          4,
          4,
          4,
          4,
          4,
          4,
          4,
          3,
          3,
          3,
          3,
          3,
          3,
          3,
          3,
          3,
          3,
          3,
          3,
          3,
          3,
          2,
          2,
          2,
          2,
          2,
          2,
          2,
          2,
          2,
          2,
          2,
          2,
          2,
          2,
          2,
          2,
          1,
          1,
          1,
          1,
          1,
          1,
          1,
          1,
          1,
          1,
          1,
          1,
          1,
          1,
          1,
          1,
          1,
          1,
          1,
          1,
          1,
          1,
          1,
          1,
          1,
          1,
          1,
          1,
          1,
          1,
          1
         ]
        }
       ],
       "layout": {
        "geo": {
         "projection": {
          "type": "natural earth"
         },
         "showcoastlines": false,
         "showframe": false
        },
        "height": 600,
        "template": {
         "data": {
          "bar": [
           {
            "error_x": {
             "color": "#2a3f5f"
            },
            "error_y": {
             "color": "#2a3f5f"
            },
            "marker": {
             "line": {
              "color": "#E5ECF6",
              "width": 0.5
             },
             "pattern": {
              "fillmode": "overlay",
              "size": 10,
              "solidity": 0.2
             }
            },
            "type": "bar"
           }
          ],
          "barpolar": [
           {
            "marker": {
             "line": {
              "color": "#E5ECF6",
              "width": 0.5
             },
             "pattern": {
              "fillmode": "overlay",
              "size": 10,
              "solidity": 0.2
             }
            },
            "type": "barpolar"
           }
          ],
          "carpet": [
           {
            "aaxis": {
             "endlinecolor": "#2a3f5f",
             "gridcolor": "white",
             "linecolor": "white",
             "minorgridcolor": "white",
             "startlinecolor": "#2a3f5f"
            },
            "baxis": {
             "endlinecolor": "#2a3f5f",
             "gridcolor": "white",
             "linecolor": "white",
             "minorgridcolor": "white",
             "startlinecolor": "#2a3f5f"
            },
            "type": "carpet"
           }
          ],
          "choropleth": [
           {
            "colorbar": {
             "outlinewidth": 0,
             "ticks": ""
            },
            "type": "choropleth"
           }
          ],
          "contour": [
           {
            "colorbar": {
             "outlinewidth": 0,
             "ticks": ""
            },
            "colorscale": [
             [
              0,
              "#0d0887"
             ],
             [
              0.1111111111111111,
              "#46039f"
             ],
             [
              0.2222222222222222,
              "#7201a8"
             ],
             [
              0.3333333333333333,
              "#9c179e"
             ],
             [
              0.4444444444444444,
              "#bd3786"
             ],
             [
              0.5555555555555556,
              "#d8576b"
             ],
             [
              0.6666666666666666,
              "#ed7953"
             ],
             [
              0.7777777777777778,
              "#fb9f3a"
             ],
             [
              0.8888888888888888,
              "#fdca26"
             ],
             [
              1,
              "#f0f921"
             ]
            ],
            "type": "contour"
           }
          ],
          "contourcarpet": [
           {
            "colorbar": {
             "outlinewidth": 0,
             "ticks": ""
            },
            "type": "contourcarpet"
           }
          ],
          "heatmap": [
           {
            "colorbar": {
             "outlinewidth": 0,
             "ticks": ""
            },
            "colorscale": [
             [
              0,
              "#0d0887"
             ],
             [
              0.1111111111111111,
              "#46039f"
             ],
             [
              0.2222222222222222,
              "#7201a8"
             ],
             [
              0.3333333333333333,
              "#9c179e"
             ],
             [
              0.4444444444444444,
              "#bd3786"
             ],
             [
              0.5555555555555556,
              "#d8576b"
             ],
             [
              0.6666666666666666,
              "#ed7953"
             ],
             [
              0.7777777777777778,
              "#fb9f3a"
             ],
             [
              0.8888888888888888,
              "#fdca26"
             ],
             [
              1,
              "#f0f921"
             ]
            ],
            "type": "heatmap"
           }
          ],
          "heatmapgl": [
           {
            "colorbar": {
             "outlinewidth": 0,
             "ticks": ""
            },
            "colorscale": [
             [
              0,
              "#0d0887"
             ],
             [
              0.1111111111111111,
              "#46039f"
             ],
             [
              0.2222222222222222,
              "#7201a8"
             ],
             [
              0.3333333333333333,
              "#9c179e"
             ],
             [
              0.4444444444444444,
              "#bd3786"
             ],
             [
              0.5555555555555556,
              "#d8576b"
             ],
             [
              0.6666666666666666,
              "#ed7953"
             ],
             [
              0.7777777777777778,
              "#fb9f3a"
             ],
             [
              0.8888888888888888,
              "#fdca26"
             ],
             [
              1,
              "#f0f921"
             ]
            ],
            "type": "heatmapgl"
           }
          ],
          "histogram": [
           {
            "marker": {
             "pattern": {
              "fillmode": "overlay",
              "size": 10,
              "solidity": 0.2
             }
            },
            "type": "histogram"
           }
          ],
          "histogram2d": [
           {
            "colorbar": {
             "outlinewidth": 0,
             "ticks": ""
            },
            "colorscale": [
             [
              0,
              "#0d0887"
             ],
             [
              0.1111111111111111,
              "#46039f"
             ],
             [
              0.2222222222222222,
              "#7201a8"
             ],
             [
              0.3333333333333333,
              "#9c179e"
             ],
             [
              0.4444444444444444,
              "#bd3786"
             ],
             [
              0.5555555555555556,
              "#d8576b"
             ],
             [
              0.6666666666666666,
              "#ed7953"
             ],
             [
              0.7777777777777778,
              "#fb9f3a"
             ],
             [
              0.8888888888888888,
              "#fdca26"
             ],
             [
              1,
              "#f0f921"
             ]
            ],
            "type": "histogram2d"
           }
          ],
          "histogram2dcontour": [
           {
            "colorbar": {
             "outlinewidth": 0,
             "ticks": ""
            },
            "colorscale": [
             [
              0,
              "#0d0887"
             ],
             [
              0.1111111111111111,
              "#46039f"
             ],
             [
              0.2222222222222222,
              "#7201a8"
             ],
             [
              0.3333333333333333,
              "#9c179e"
             ],
             [
              0.4444444444444444,
              "#bd3786"
             ],
             [
              0.5555555555555556,
              "#d8576b"
             ],
             [
              0.6666666666666666,
              "#ed7953"
             ],
             [
              0.7777777777777778,
              "#fb9f3a"
             ],
             [
              0.8888888888888888,
              "#fdca26"
             ],
             [
              1,
              "#f0f921"
             ]
            ],
            "type": "histogram2dcontour"
           }
          ],
          "mesh3d": [
           {
            "colorbar": {
             "outlinewidth": 0,
             "ticks": ""
            },
            "type": "mesh3d"
           }
          ],
          "parcoords": [
           {
            "line": {
             "colorbar": {
              "outlinewidth": 0,
              "ticks": ""
             }
            },
            "type": "parcoords"
           }
          ],
          "pie": [
           {
            "automargin": true,
            "type": "pie"
           }
          ],
          "scatter": [
           {
            "fillpattern": {
             "fillmode": "overlay",
             "size": 10,
             "solidity": 0.2
            },
            "type": "scatter"
           }
          ],
          "scatter3d": [
           {
            "line": {
             "colorbar": {
              "outlinewidth": 0,
              "ticks": ""
             }
            },
            "marker": {
             "colorbar": {
              "outlinewidth": 0,
              "ticks": ""
             }
            },
            "type": "scatter3d"
           }
          ],
          "scattercarpet": [
           {
            "marker": {
             "colorbar": {
              "outlinewidth": 0,
              "ticks": ""
             }
            },
            "type": "scattercarpet"
           }
          ],
          "scattergeo": [
           {
            "marker": {
             "colorbar": {
              "outlinewidth": 0,
              "ticks": ""
             }
            },
            "type": "scattergeo"
           }
          ],
          "scattergl": [
           {
            "marker": {
             "colorbar": {
              "outlinewidth": 0,
              "ticks": ""
             }
            },
            "type": "scattergl"
           }
          ],
          "scattermapbox": [
           {
            "marker": {
             "colorbar": {
              "outlinewidth": 0,
              "ticks": ""
             }
            },
            "type": "scattermapbox"
           }
          ],
          "scatterpolar": [
           {
            "marker": {
             "colorbar": {
              "outlinewidth": 0,
              "ticks": ""
             }
            },
            "type": "scatterpolar"
           }
          ],
          "scatterpolargl": [
           {
            "marker": {
             "colorbar": {
              "outlinewidth": 0,
              "ticks": ""
             }
            },
            "type": "scatterpolargl"
           }
          ],
          "scatterternary": [
           {
            "marker": {
             "colorbar": {
              "outlinewidth": 0,
              "ticks": ""
             }
            },
            "type": "scatterternary"
           }
          ],
          "surface": [
           {
            "colorbar": {
             "outlinewidth": 0,
             "ticks": ""
            },
            "colorscale": [
             [
              0,
              "#0d0887"
             ],
             [
              0.1111111111111111,
              "#46039f"
             ],
             [
              0.2222222222222222,
              "#7201a8"
             ],
             [
              0.3333333333333333,
              "#9c179e"
             ],
             [
              0.4444444444444444,
              "#bd3786"
             ],
             [
              0.5555555555555556,
              "#d8576b"
             ],
             [
              0.6666666666666666,
              "#ed7953"
             ],
             [
              0.7777777777777778,
              "#fb9f3a"
             ],
             [
              0.8888888888888888,
              "#fdca26"
             ],
             [
              1,
              "#f0f921"
             ]
            ],
            "type": "surface"
           }
          ],
          "table": [
           {
            "cells": {
             "fill": {
              "color": "#EBF0F8"
             },
             "line": {
              "color": "white"
             }
            },
            "header": {
             "fill": {
              "color": "#C8D4E3"
             },
             "line": {
              "color": "white"
             }
            },
            "type": "table"
           }
          ]
         },
         "layout": {
          "annotationdefaults": {
           "arrowcolor": "#2a3f5f",
           "arrowhead": 0,
           "arrowwidth": 1
          },
          "autotypenumbers": "strict",
          "coloraxis": {
           "colorbar": {
            "outlinewidth": 0,
            "ticks": ""
           }
          },
          "colorscale": {
           "diverging": [
            [
             0,
             "#8e0152"
            ],
            [
             0.1,
             "#c51b7d"
            ],
            [
             0.2,
             "#de77ae"
            ],
            [
             0.3,
             "#f1b6da"
            ],
            [
             0.4,
             "#fde0ef"
            ],
            [
             0.5,
             "#f7f7f7"
            ],
            [
             0.6,
             "#e6f5d0"
            ],
            [
             0.7,
             "#b8e186"
            ],
            [
             0.8,
             "#7fbc41"
            ],
            [
             0.9,
             "#4d9221"
            ],
            [
             1,
             "#276419"
            ]
           ],
           "sequential": [
            [
             0,
             "#0d0887"
            ],
            [
             0.1111111111111111,
             "#46039f"
            ],
            [
             0.2222222222222222,
             "#7201a8"
            ],
            [
             0.3333333333333333,
             "#9c179e"
            ],
            [
             0.4444444444444444,
             "#bd3786"
            ],
            [
             0.5555555555555556,
             "#d8576b"
            ],
            [
             0.6666666666666666,
             "#ed7953"
            ],
            [
             0.7777777777777778,
             "#fb9f3a"
            ],
            [
             0.8888888888888888,
             "#fdca26"
            ],
            [
             1,
             "#f0f921"
            ]
           ],
           "sequentialminus": [
            [
             0,
             "#0d0887"
            ],
            [
             0.1111111111111111,
             "#46039f"
            ],
            [
             0.2222222222222222,
             "#7201a8"
            ],
            [
             0.3333333333333333,
             "#9c179e"
            ],
            [
             0.4444444444444444,
             "#bd3786"
            ],
            [
             0.5555555555555556,
             "#d8576b"
            ],
            [
             0.6666666666666666,
             "#ed7953"
            ],
            [
             0.7777777777777778,
             "#fb9f3a"
            ],
            [
             0.8888888888888888,
             "#fdca26"
            ],
            [
             1,
             "#f0f921"
            ]
           ]
          },
          "colorway": [
           "#636efa",
           "#EF553B",
           "#00cc96",
           "#ab63fa",
           "#FFA15A",
           "#19d3f3",
           "#FF6692",
           "#B6E880",
           "#FF97FF",
           "#FECB52"
          ],
          "font": {
           "color": "#2a3f5f"
          },
          "geo": {
           "bgcolor": "white",
           "lakecolor": "white",
           "landcolor": "#E5ECF6",
           "showlakes": true,
           "showland": true,
           "subunitcolor": "white"
          },
          "hoverlabel": {
           "align": "left"
          },
          "hovermode": "closest",
          "mapbox": {
           "style": "light"
          },
          "paper_bgcolor": "white",
          "plot_bgcolor": "#E5ECF6",
          "polar": {
           "angularaxis": {
            "gridcolor": "white",
            "linecolor": "white",
            "ticks": ""
           },
           "bgcolor": "#E5ECF6",
           "radialaxis": {
            "gridcolor": "white",
            "linecolor": "white",
            "ticks": ""
           }
          },
          "scene": {
           "xaxis": {
            "backgroundcolor": "#E5ECF6",
            "gridcolor": "white",
            "gridwidth": 2,
            "linecolor": "white",
            "showbackground": true,
            "ticks": "",
            "zerolinecolor": "white"
           },
           "yaxis": {
            "backgroundcolor": "#E5ECF6",
            "gridcolor": "white",
            "gridwidth": 2,
            "linecolor": "white",
            "showbackground": true,
            "ticks": "",
            "zerolinecolor": "white"
           },
           "zaxis": {
            "backgroundcolor": "#E5ECF6",
            "gridcolor": "white",
            "gridwidth": 2,
            "linecolor": "white",
            "showbackground": true,
            "ticks": "",
            "zerolinecolor": "white"
           }
          },
          "shapedefaults": {
           "line": {
            "color": "#2a3f5f"
           }
          },
          "ternary": {
           "aaxis": {
            "gridcolor": "white",
            "linecolor": "white",
            "ticks": ""
           },
           "baxis": {
            "gridcolor": "white",
            "linecolor": "white",
            "ticks": ""
           },
           "bgcolor": "#E5ECF6",
           "caxis": {
            "gridcolor": "white",
            "linecolor": "white",
            "ticks": ""
           }
          },
          "title": {
           "x": 0.05
          },
          "xaxis": {
           "automargin": true,
           "gridcolor": "white",
           "linecolor": "white",
           "ticks": "",
           "title": {
            "standoff": 15
           },
           "zerolinecolor": "white",
           "zerolinewidth": 2
          },
          "yaxis": {
           "automargin": true,
           "gridcolor": "white",
           "linecolor": "white",
           "ticks": "",
           "title": {
            "standoff": 15
           },
           "zerolinecolor": "white",
           "zerolinewidth": 2
          }
         }
        },
        "title": {
         "text": "Visual Representation of Nationality of Customers",
         "x": 0.5
        },
        "width": 1000
       }
      }
     },
     "metadata": {},
     "output_type": "display_data"
    }
   ],
   "source": [
    "fig = go.Figure(data=go.Choropleth(\n",
    "    locations=nationality_counts['Country'],\n",
    "    z=nationality_counts['VisitorCount'],\n",
    "    text=nationality_counts['Country'],\n",
    "    colorscale='Greens',\n",
    "    autocolorscale=False,\n",
    "    reversescale=False,\n",
    "    marker_line_color='black',\n",
    "    marker_line_width=0.5,\n",
    "    colorbar_tickprefix='',\n",
    "    colorbar_title='Count of Visitors'\n",
    "))\n",
    "\n",
    "fig.update_layout(\n",
    "    geo=dict(\n",
    "        showframe=False,\n",
    "        showcoastlines=False,\n",
    "        projection_type='natural earth'\n",
    "    ),\n",
    "    width=1000,  \n",
    "    height=600,\n",
    "    title='Visual Representation of Nationality of Customers',\n",
    "    title_x=0.5,\n",
    ")\n",
    "\n",
    "fig.show()\n",
    "\n",
    "#Adapted from a previous notebook and learned from https://www.youtube.com/watch?v=_FQMD-TpBpM"
   ]
  },
  {
   "cell_type": "markdown",
   "metadata": {},
   "source": [
    "**France**, **Germany**, **Portugal** (National customers) and **Great Britain** are our top 4 customer nationality. We can have this biggest categories in mind when we reduce the cardinality of this variable."
   ]
  },
  {
   "cell_type": "markdown",
   "metadata": {},
   "source": [
    "#### Boolean variables: BarPlots"
   ]
  },
  {
   "cell_type": "code",
   "execution_count": 66,
   "metadata": {},
   "outputs": [
    {
     "data": {
      "image/png": "[encoded data removed]",
      "text/plain": [
       "<Figure size 1600x1000 with 13 Axes>"
      ]
     },
     "metadata": {},
     "output_type": "display_data"
    }
   ],
   "source": [
    "sns.set_style(\"whitegrid\")\n",
    "plt.figure(figsize=(16, 10))\n",
    "for i, var in enumerate(boolean_variables, 1):\n",
    "    plt.subplot(3, 5, i)\n",
    "    sns.countplot(data=df, x=var, color='#A0C020') \n",
    "    plt.xlabel(var)\n",
    "    plt.ylabel('Count')\n",
    "    \n",
    "    # Adding percentages to make it easier to read\n",
    "    total = len(df[var])\n",
    "    for p in plt.gca().patches:\n",
    "        percentage = '{:.1f}%'.format(100 * p.get_height() / total)\n",
    "        x = p.get_x() + p.get_width() / 2 - 0.20\n",
    "        y = p.get_y() + p.get_height()\n",
    "        plt.gca().annotate(percentage, (x, y), size=10)\n",
    "\n",
    "plt.tight_layout()\n",
    "plt.show()\n",
    "\n",
    "#Adapted from Chat GPT"
   ]
  },
  {
   "cell_type": "markdown",
   "metadata": {},
   "source": [
    "- Clients typically specify a floor preference only when they request a top floor. More specifically, 4.3% of the customers asked for a higher floor.\n",
    "- There is a nearly null percentage of customers asking for a Bathtub or a Shower. We can conclude these are not important caracteristics for clients when choosing a room.\n",
    "- 1.6% have ask for a Crib indicating people are staying with babies. This can be an important information for marketing strategies.\n",
    "- The difference of preferences start to show in the Bed choice, its normal since a lot of platforms ask for this information to assign the bedroom.\n",
    "- We can also see that a QuietRoom is a important request for 8.8% of the customers. "
   ]
  },
  {
   "cell_type": "markdown",
   "metadata": {},
   "source": [
    "<a class=\"anchor\" id=\"Bivariate-Vizualization\">\n",
    "\n",
    "### 1.2.5. Bivariate EDA: Data Visualization\n",
    "\n",
    "</a>"
   ]
  },
  {
   "cell_type": "markdown",
   "metadata": {},
   "source": [
    "#### Numeric-Numeric: Correlations"
   ]
  }
 ],
 "metadata": {
  "kernelspec": {
   "display_name": "base",
   "language": "python",
   "name": "python3"
  },
  "language_info": {
   "codemirror_mode": {
    "name": "ipython",
    "version": 3
   },
   "file_extension": ".py",
   "mimetype": "text/x-python",
   "name": "python",
   "nbconvert_exporter": "python",
   "pygments_lexer": "ipython3",
   "version": "3.12.7"
  }
 },
 "nbformat": 4,
 "nbformat_minor": 2
}
